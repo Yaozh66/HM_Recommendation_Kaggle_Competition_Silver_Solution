{
 "cells": [
  {
   "cell_type": "markdown",
   "source": [
    "This file is the popular base recall. In this recall, we use 3 popular algorithms:\n",
    "1.the most popular items\n",
    "2.the most popular items in the most popular product type\n",
    "3.the most popular items in the most popular product group type"
   ],
   "metadata": {
    "collapsed": false,
    "pycharm": {
     "name": "#%% md\n"
    }
   }
  },
  {
   "cell_type": "code",
   "execution_count": 8,
   "metadata": {
    "ExecuteTime": {
     "end_time": "2022-04-23T07:00:17.508554Z",
     "start_time": "2022-04-23T06:59:57.444496Z"
    },
    "id": "HSzmwY2eOux4",
    "pycharm": {
     "name": "#%%\n"
    }
   },
   "outputs": [
    {
     "data": {
      "text/html": [
       "<div>\n",
       "<style scoped>\n",
       "    .dataframe tbody tr th:only-of-type {\n",
       "        vertical-align: middle;\n",
       "    }\n",
       "\n",
       "    .dataframe tbody tr th {\n",
       "        vertical-align: top;\n",
       "    }\n",
       "\n",
       "    .dataframe thead th {\n",
       "        text-align: right;\n",
       "    }\n",
       "</style>\n",
       "<table border=\"1\" class=\"dataframe\">\n",
       "  <thead>\n",
       "    <tr style=\"text-align: right;\">\n",
       "      <th></th>\n",
       "      <th>customer_id</th>\n",
       "      <th>article_id</th>\n",
       "    </tr>\n",
       "  </thead>\n",
       "  <tbody>\n",
       "    <tr>\n",
       "      <th>0</th>\n",
       "      <td>000058a12d5b43e67d225668fa1f8d618c13dc232df0ca...</td>\n",
       "      <td>0663713001</td>\n",
       "    </tr>\n",
       "    <tr>\n",
       "      <th>1</th>\n",
       "      <td>000058a12d5b43e67d225668fa1f8d618c13dc232df0ca...</td>\n",
       "      <td>0541518023</td>\n",
       "    </tr>\n",
       "    <tr>\n",
       "      <th>2</th>\n",
       "      <td>00007d2de826758b65a93dd24ce629ed66842531df6699...</td>\n",
       "      <td>0505221004</td>\n",
       "    </tr>\n",
       "    <tr>\n",
       "      <th>3</th>\n",
       "      <td>00007d2de826758b65a93dd24ce629ed66842531df6699...</td>\n",
       "      <td>0685687003</td>\n",
       "    </tr>\n",
       "    <tr>\n",
       "      <th>4</th>\n",
       "      <td>00007d2de826758b65a93dd24ce629ed66842531df6699...</td>\n",
       "      <td>0685687004</td>\n",
       "    </tr>\n",
       "    <tr>\n",
       "      <th>...</th>\n",
       "      <td>...</td>\n",
       "      <td>...</td>\n",
       "    </tr>\n",
       "    <tr>\n",
       "      <th>27306434</th>\n",
       "      <td>ffd4cf2217de4a0a3f9f610cdec334c803692a18af08ac...</td>\n",
       "      <td>0856440002</td>\n",
       "    </tr>\n",
       "    <tr>\n",
       "      <th>27306435</th>\n",
       "      <td>fff2282977442e327b45d8c89afde25617d00124d0f999...</td>\n",
       "      <td>0929511001</td>\n",
       "    </tr>\n",
       "    <tr>\n",
       "      <th>27306436</th>\n",
       "      <td>fff380805474b287b05cb2a7507b9a013482f7dd0bce0e...</td>\n",
       "      <td>0918325001</td>\n",
       "    </tr>\n",
       "    <tr>\n",
       "      <th>27306437</th>\n",
       "      <td>fff4d3a8b1f3b60af93e78c30a7cb4cf75edaf2590d3e5...</td>\n",
       "      <td>0833459002</td>\n",
       "    </tr>\n",
       "    <tr>\n",
       "      <th>27306438</th>\n",
       "      <td>fffef3b6b73545df065b521e19f64bf6fe93bfd450ab20...</td>\n",
       "      <td>0898573003</td>\n",
       "    </tr>\n",
       "  </tbody>\n",
       "</table>\n",
       "<p>27306439 rows × 2 columns</p>\n",
       "</div>"
      ],
      "text/plain": [
       "                                                customer_id  article_id\n",
       "0         000058a12d5b43e67d225668fa1f8d618c13dc232df0ca...  0663713001\n",
       "1         000058a12d5b43e67d225668fa1f8d618c13dc232df0ca...  0541518023\n",
       "2         00007d2de826758b65a93dd24ce629ed66842531df6699...  0505221004\n",
       "3         00007d2de826758b65a93dd24ce629ed66842531df6699...  0685687003\n",
       "4         00007d2de826758b65a93dd24ce629ed66842531df6699...  0685687004\n",
       "...                                                     ...         ...\n",
       "27306434  ffd4cf2217de4a0a3f9f610cdec334c803692a18af08ac...  0856440002\n",
       "27306435  fff2282977442e327b45d8c89afde25617d00124d0f999...  0929511001\n",
       "27306436  fff380805474b287b05cb2a7507b9a013482f7dd0bce0e...  0918325001\n",
       "27306437  fff4d3a8b1f3b60af93e78c30a7cb4cf75edaf2590d3e5...  0833459002\n",
       "27306438  fffef3b6b73545df065b521e19f64bf6fe93bfd450ab20...  0898573003\n",
       "\n",
       "[27306439 rows x 2 columns]"
      ]
     },
     "execution_count": 8,
     "metadata": {},
     "output_type": "execute_result"
    }
   ],
   "source": [
    "import pandas as pd\n",
    "import numpy as np\n",
    "\n",
    "#read data into memory\n",
    "transactions_train=pd.read_feather(\"./data/h-and-m-personalized-fashion-recommendations/transactions_train.feature\")[['customer_id', 'article_id']].drop_duplicates().reset_index(drop=True)\n",
    "transactions_train\n",
    "cust=transactions_train.customer_id.unique()"
   ]
  },
  {
   "cell_type": "code",
   "execution_count": 4,
   "metadata": {
    "ExecuteTime": {
     "end_time": "2022-04-23T06:56:50.481305Z",
     "start_time": "2022-04-23T06:56:50.473973Z"
    },
    "code_folding": [],
    "pycharm": {
     "name": "#%%\n"
    }
   },
   "outputs": [],
   "source": [
    "def candidate_score(candidate_df, valid_df):\n",
    "    \"\"\"\n",
    "    This function is used to calculate the validation recall scores,including:\n",
    "    Recall, Precision, MAP12, Full Covered Customer, Not Covered Customer, Candidate multiplier\n",
    "    :param candidate_df: The DataFrame validated\n",
    "    :param valid_df: The validation DataFrame\n",
    "    :return: all the recall scores in a tuple\n",
    "    \"\"\"\n",
    "    both_df = candidate_df.merge(valid_df, on = ['customer_id', 'article_id'], how = 'inner')#inner connection\n",
    "    # if the customer have >=12 just count 12 \n",
    "    trgt_cnt_df = valid_df.groupby('customer_id', as_index = False).agg({'article_id' :'count'}).\\\n",
    "        rename(columns = {'article_id':'trgt_cnt'})\n",
    "    trgt_cnt_df.loc[trgt_cnt_df['trgt_cnt']>= 12, 'trgt_cnt'] = 12 \n",
    "    both_cnt_df = both_df.groupby('customer_id', as_index = False).agg({'article_id' :'count'}).\\\n",
    "        rename(columns = {'article_id':'both_cnt'})\n",
    "    both_cnt_df.loc[both_cnt_df['both_cnt']>= 12, 'both_cnt'] = 12\n",
    "\n",
    "    trgt_cnt_df = trgt_cnt_df.merge(both_cnt_df, on = 'customer_id', how = 'left') \n",
    "    trgt_cnt_df.fillna(0, inplace = True)\n",
    "    can_df=candidate_df.groupby('customer_id', as_index = False).agg({'article_id' :'count'}).\\\n",
    "        rename(columns = {'article_id':'can_cnt'})\n",
    "    # assume it is optimally sorted \n",
    "    trgt_cnt_df['AP12'] = trgt_cnt_df['both_cnt'] / trgt_cnt_df['trgt_cnt']\n",
    "    max_map12 = trgt_cnt_df['AP12'].mean()\n",
    "    recall=trgt_cnt_df['both_cnt'].sum()/trgt_cnt_df['trgt_cnt'].sum()\n",
    "    precision=trgt_cnt_df['both_cnt'].sum()/can_df['can_cnt'].sum()\n",
    "    f1=(2*recall*precision)/(recall+precision)\n",
    "    full_covered_cust = len(trgt_cnt_df.loc[trgt_cnt_df['AP12'] == 1])\n",
    "    not_covered_cust = len(trgt_cnt_df.loc[trgt_cnt_df['AP12'] == 0])\n",
    "    num_target_cust = len(trgt_cnt_df)\n",
    "    num_candidate = len(candidate_df)\n",
    "    num_target = len(valid_df)\n",
    "    num_unq_artc = len(candidate_df['article_id'].unique())\n",
    "    \n",
    "    print(\"Recall:{0},Precision:{1},F1:{2}\".format(recall,precision,f1))\n",
    "    print(f\"MAX MAP12: {round(max_map12, 4)}\")\n",
    "    print(f\"Full Covered Customer: {round(full_covered_cust / num_target_cust, 4)} ({full_covered_cust} / {num_target_cust}) \")\n",
    "    print(f\"Not Covered Customer: {round(not_covered_cust / num_target_cust, 4)} ({not_covered_cust} / {num_target_cust}) \")\n",
    "    print(f\"Candidate multiplier: {round(num_candidate / num_target, 4)} ({num_candidate} / {num_target})\")\n",
    "    print(f\"Unique Article Id: {num_unq_artc}\")\n",
    "    \n",
    "    return max_map12, full_covered_cust / num_target_cust, not_covered_cust / num_target_cust, num_candidate / num_target ,num_unq_artc"
   ]
  },
  {
   "cell_type": "code",
   "execution_count": 3,
   "metadata": {
    "ExecuteTime": {
     "end_time": "2022-04-23T06:37:50.973104Z",
     "start_time": "2022-04-23T06:37:50.684285Z"
    },
    "colab": {
     "base_uri": "https://localhost:8080/",
     "height": 53
    },
    "executionInfo": {
     "elapsed": 1887,
     "status": "ok",
     "timestamp": 1648883915253,
     "user": {
      "displayName": "zh yao",
      "userId": "06523738908000903759"
     },
     "user_tz": -480
    },
    "id": "KVBZ3pUKOux5",
    "outputId": "375bdb11-101d-41dd-be86-5ae885dc9d6c",
    "pycharm": {
     "name": "#%%\n"
    },
    "scrolled": true
   },
   "outputs": [
    {
     "data": {
      "text/plain": [
       "'0751471001 0915526001 0915529003 0918292001 0751471043 0706016001 0898694001 0448509014 0909370001 0863595006 0924243001 0918522001'"
      ]
     },
     "execution_count": 3,
     "metadata": {},
     "output_type": "execute_result"
    }
   ],
   "source": [
    "#12 most popular articles in 4 weeks\n",
    "train1 = transactions_train.loc[transactions_train.t_dat >= transactions_train.t_dat.max()- pd.Timedelta(weeks=4)]\n",
    "top121 = train1.article_id.value_counts().astype('str')[:12]#top121 means top12 in the first popular recall\n",
    "top121=' '.join(top121.index.tolist())\n",
    "top121_list=top121.split(' ')\n",
    "candidate_df = pd.DataFrame({'customer_id': np.repeat(cust, len(top121_list)),\n",
    "                              'article_id': top121_list * len(cust),\n",
    "                              })\n",
    "candidate_score(candidate_df, transactions_train)"
   ]
  },
  {
   "cell_type": "code",
   "execution_count": null,
   "metadata": {
    "ExecuteTime": {
     "end_time": "2022-03-16T11:02:16.883345Z",
     "start_time": "2022-03-16T11:02:09.507418Z"
    },
    "colab": {
     "base_uri": "https://localhost:8080/"
    },
    "executionInfo": {
     "elapsed": 15516,
     "status": "ok",
     "timestamp": 1648883945465,
     "user": {
      "displayName": "zh yao",
      "userId": "06523738908000903759"
     },
     "user_tz": -480
    },
    "id": "pu3YvpK5Oux7",
    "outputId": "03ba7129-1dae-40ac-83a5-12a4fd0f53d1",
    "pycharm": {
     "name": "#%%\n"
    },
    "scrolled": false
   },
   "outputs": [
    {
     "data": {
      "text/plain": [
       "['Trousers', 'Dress', 'Sweater', 'T-shirt']"
      ]
     },
     "execution_count": 3,
     "metadata": {},
     "output_type": "execute_result"
    }
   ],
   "source": [
    "#the most popular 4 product types\n",
    "articles=pd.read_csv(\"./drive/MyDrive/Colab Notebooks/articles.csv\",dtype={'article_id': str})\n",
    "transactions_train_withType=pd.merge(transactions_train,articles[[\"article_id\",\"product_type_name\"]],on=\"article_id\",how=\"left\")\n",
    "top4=transactions_train_withType.product_type_name.value_counts().index\n",
    "top4=list(top4[:4])\n",
    "top4"
   ]
  },
  {
   "cell_type": "code",
   "execution_count": null,
   "metadata": {
    "ExecuteTime": {
     "end_time": "2022-03-16T11:11:47.838543Z",
     "start_time": "2022-03-16T11:11:35.479672Z"
    },
    "code_folding": [],
    "colab": {
     "base_uri": "https://localhost:8080/",
     "height": 139
    },
    "executionInfo": {
     "elapsed": 44644,
     "status": "ok",
     "timestamp": 1648883990105,
     "user": {
      "displayName": "zh yao",
      "userId": "06523738908000903759"
     },
     "user_tz": -480
    },
    "id": "KyOODY4wOux8",
    "outputId": "8853a039-325d-4bb0-9c42-8e1120b2bf61",
    "pycharm": {
     "name": "#%%\n"
    }
   },
   "outputs": [
    {
     "data": {
      "application/vnd.google.colaboratory.intrinsic+json": {
       "type": "string"
      },
      "text/plain": [
       "'0706016001 0706016002 0399223001 0706016003 0562245046 0562245001 0399256001 0448509014 0751471001 0573716012 0706016015 0554450001 0716348001 0401044004 0714824001 0612935009 0721298001 0762063001 0883033002 0841434001 0745475001 0880839001 0817353008 0637255001 0673677002 0537116001 0685813001 0591334003 0677930023 0673677004 0591334019 0574109011 0673638001 0679853001 0516903005 0673638007 0610776002 0610776001 0717490008 0711053003 0778064003 0685816002 0778064001 0554598001 0685816001 0806388002 0806388001 0624486001'"
      ]
     },
     "execution_count": 4,
     "metadata": {},
     "output_type": "execute_result"
    }
   ],
   "source": [
    "#Select the most popular 12 items in the the most popular 4 product types\n",
    "top12=[]\n",
    "for top in top4:\n",
    "  articles_top4=articles[articles[\"product_type_name\"]==top]\n",
    "  transactions_train_withType=pd.merge(transactions_train,articles_top4,on=\"article_id\",how=\"inner\")\n",
    "  top1 = transactions_train_withType.article_id.value_counts().index\n",
    "  top12+=list(top1[:12])\n",
    "top12=' '.join(top12)\n",
    "top12"
   ]
  },
  {
   "cell_type": "code",
   "execution_count": null,
   "metadata": {
    "colab": {
     "base_uri": "https://localhost:8080/"
    },
    "executionInfo": {
     "elapsed": 10906,
     "status": "ok",
     "timestamp": 1648884001003,
     "user": {
      "displayName": "zh yao",
      "userId": "06523738908000903759"
     },
     "user_tz": -480
    },
    "id": "rSFK662cVjgt",
    "outputId": "6f7196e9-d3d4-47f6-c026-4bb9ec836d0c",
    "pycharm": {
     "name": "#%%\n"
    }
   },
   "outputs": [
    {
     "data": {
      "text/plain": [
       "['Garment Upper body', 'Garment Lower body', 'Garment Full body', 'Swimwear']"
      ]
     },
     "execution_count": 5,
     "metadata": {},
     "output_type": "execute_result"
    }
   ],
   "source": [
    "#the most popular 4 product group types\n",
    "transactions_train_withType=pd.merge(transactions_train,articles[[\"article_id\",\"product_group_name\"]],on=\"article_id\",how=\"left\")\n",
    "top4=transactions_train_withType.product_group_name.value_counts().index\n",
    "top4=list(top4[:4])\n",
    "top4"
   ]
  },
  {
   "cell_type": "code",
   "execution_count": null,
   "metadata": {
    "colab": {
     "base_uri": "https://localhost:8080/",
     "height": 139
    },
    "executionInfo": {
     "elapsed": 82274,
     "status": "ok",
     "timestamp": 1648884248475,
     "user": {
      "displayName": "zh yao",
      "userId": "06523738908000903759"
     },
     "user_tz": -480
    },
    "id": "-NT7yzOVXYJv",
    "outputId": "f39f89bf-564f-4f13-884c-34c36e3cc857",
    "pycharm": {
     "name": "#%%\n"
    }
   },
   "outputs": [
    {
     "data": {
      "application/vnd.google.colaboratory.intrinsic+json": {
       "type": "string"
      },
      "text/plain": [
       "'0610776002 0759871002 0610776001 0568601006 0673677002 0579541001 0507909001 0572797001 0565379001 0717490008 0749699002 0678942001 0706016001 0706016002 0399223001 0706016003 0720125001 0562245046 0562245001 0399256001 0448509014 0751471001 0573716012 0158340001 0294008002 0716348001 0401044004 0714824001 0612935009 0721298001 0762063001 0883033002 0841434001 0745475001 0880839001 0817353008 0351484002 0688537004 0590928001 0599580017 0684209004 0688537011 0600886001 0684209013 0699080001 0689109001 0599580038 0723529001'"
      ]
     },
     "execution_count": 8,
     "metadata": {},
     "output_type": "execute_result"
    }
   ],
   "source": [
    "#Select the most popular 12 items in the the most popular 4 product group types\n",
    "top122=[]\n",
    "for top in top4:\n",
    "  articles_top4=articles[articles[\"product_group_name\"]==top]\n",
    "  transactions_train_withType=pd.merge(transactions_train,articles_top4,on=\"article_id\",how=\"inner\")\n",
    "  top1 = transactions_train_withType.article_id.value_counts().index\n",
    "  top122+=list(top1[:12])\n",
    "top122=' '.join(top122)\n",
    "top122"
   ]
  },
  {
   "cell_type": "code",
   "execution_count": 27,
   "metadata": {
    "ExecuteTime": {
     "end_time": "2022-04-23T09:09:09.308516Z",
     "start_time": "2022-04-23T09:09:03.439206Z"
    },
    "colab": {
     "base_uri": "https://localhost:8080/",
     "height": 659
    },
    "executionInfo": {
     "elapsed": 13891,
     "status": "ok",
     "timestamp": 1648884262360,
     "user": {
      "displayName": "zh yao",
      "userId": "06523738908000903759"
     },
     "user_tz": -480
    },
    "id": "CR1EYHiVV_KS",
    "outputId": "7da3d80f-f46a-4054-a005-f969d8efcf4e",
    "pycharm": {
     "name": "#%%\n"
    }
   },
   "outputs": [
    {
     "name": "stderr",
     "output_type": "stream",
     "text": [
      "100%|██████████| 1371980/1371980 [00:01<00:00, 1204579.94it/s]\n"
     ]
    },
    {
     "data": {
      "text/html": [
       "<div>\n",
       "<style scoped>\n",
       "    .dataframe tbody tr th:only-of-type {\n",
       "        vertical-align: middle;\n",
       "    }\n",
       "\n",
       "    .dataframe tbody tr th {\n",
       "        vertical-align: top;\n",
       "    }\n",
       "\n",
       "    .dataframe thead th {\n",
       "        text-align: right;\n",
       "    }\n",
       "</style>\n",
       "<table border=\"1\" class=\"dataframe\">\n",
       "  <thead>\n",
       "    <tr style=\"text-align: right;\">\n",
       "      <th></th>\n",
       "      <th>customer_id</th>\n",
       "      <th>prediction</th>\n",
       "    </tr>\n",
       "  </thead>\n",
       "  <tbody>\n",
       "    <tr>\n",
       "      <th>0</th>\n",
       "      <td>00000dbacae5abe5e23885899a1fa44253a17956c6d1c3...</td>\n",
       "      <td>0706016001 0706016002 0399223001 0706016003 05...</td>\n",
       "    </tr>\n",
       "    <tr>\n",
       "      <th>1</th>\n",
       "      <td>0000423b00ade91418cceaf3b26c6af3dd342b51fd051e...</td>\n",
       "      <td>0706016001 0706016002 0399223001 0706016003 05...</td>\n",
       "    </tr>\n",
       "    <tr>\n",
       "      <th>2</th>\n",
       "      <td>000058a12d5b43e67d225668fa1f8d618c13dc232df0ca...</td>\n",
       "      <td>0706016001 0706016002 0399223001 0706016003 05...</td>\n",
       "    </tr>\n",
       "    <tr>\n",
       "      <th>3</th>\n",
       "      <td>00005ca1c9ed5f5146b52ac8639a40ca9d57aeff4d1bd2...</td>\n",
       "      <td>0706016001 0706016002 0399223001 0706016003 05...</td>\n",
       "    </tr>\n",
       "    <tr>\n",
       "      <th>4</th>\n",
       "      <td>00006413d8573cd20ed7128e53b7b13819fe5cfc2d801f...</td>\n",
       "      <td>0706016001 0706016002 0399223001 0706016003 05...</td>\n",
       "    </tr>\n",
       "    <tr>\n",
       "      <th>...</th>\n",
       "      <td>...</td>\n",
       "      <td>...</td>\n",
       "    </tr>\n",
       "    <tr>\n",
       "      <th>1371975</th>\n",
       "      <td>ffffbbf78b6eaac697a8a5dfbfd2bfa8113ee5b403e474...</td>\n",
       "      <td>0706016001 0706016002 0399223001 0706016003 05...</td>\n",
       "    </tr>\n",
       "    <tr>\n",
       "      <th>1371976</th>\n",
       "      <td>ffffcd5046a6143d29a04fb8c424ce494a76e5cdf4fab5...</td>\n",
       "      <td>0706016001 0706016002 0399223001 0706016003 05...</td>\n",
       "    </tr>\n",
       "    <tr>\n",
       "      <th>1371977</th>\n",
       "      <td>ffffcf35913a0bee60e8741cb2b4e78b8a98ee5ff2e6a1...</td>\n",
       "      <td>0706016001 0706016002 0399223001 0706016003 05...</td>\n",
       "    </tr>\n",
       "    <tr>\n",
       "      <th>1371978</th>\n",
       "      <td>ffffd7744cebcf3aca44ae7049d2a94b87074c3d4ffe38...</td>\n",
       "      <td>0706016001 0706016002 0399223001 0706016003 05...</td>\n",
       "    </tr>\n",
       "    <tr>\n",
       "      <th>1371979</th>\n",
       "      <td>ffffd9ac14e89946416d80e791d064701994755c3ab686...</td>\n",
       "      <td>0706016001 0706016002 0399223001 0706016003 05...</td>\n",
       "    </tr>\n",
       "  </tbody>\n",
       "</table>\n",
       "<p>1371980 rows × 2 columns</p>\n",
       "</div>"
      ],
      "text/plain": [
       "                                               customer_id  \\\n",
       "0        00000dbacae5abe5e23885899a1fa44253a17956c6d1c3...   \n",
       "1        0000423b00ade91418cceaf3b26c6af3dd342b51fd051e...   \n",
       "2        000058a12d5b43e67d225668fa1f8d618c13dc232df0ca...   \n",
       "3        00005ca1c9ed5f5146b52ac8639a40ca9d57aeff4d1bd2...   \n",
       "4        00006413d8573cd20ed7128e53b7b13819fe5cfc2d801f...   \n",
       "...                                                    ...   \n",
       "1371975  ffffbbf78b6eaac697a8a5dfbfd2bfa8113ee5b403e474...   \n",
       "1371976  ffffcd5046a6143d29a04fb8c424ce494a76e5cdf4fab5...   \n",
       "1371977  ffffcf35913a0bee60e8741cb2b4e78b8a98ee5ff2e6a1...   \n",
       "1371978  ffffd7744cebcf3aca44ae7049d2a94b87074c3d4ffe38...   \n",
       "1371979  ffffd9ac14e89946416d80e791d064701994755c3ab686...   \n",
       "\n",
       "                                                prediction  \n",
       "0        0706016001 0706016002 0399223001 0706016003 05...  \n",
       "1        0706016001 0706016002 0399223001 0706016003 05...  \n",
       "2        0706016001 0706016002 0399223001 0706016003 05...  \n",
       "3        0706016001 0706016002 0399223001 0706016003 05...  \n",
       "4        0706016001 0706016002 0399223001 0706016003 05...  \n",
       "...                                                    ...  \n",
       "1371975  0706016001 0706016002 0399223001 0706016003 05...  \n",
       "1371976  0706016001 0706016002 0399223001 0706016003 05...  \n",
       "1371977  0706016001 0706016002 0399223001 0706016003 05...  \n",
       "1371978  0706016001 0706016002 0399223001 0706016003 05...  \n",
       "1371979  0706016001 0706016002 0399223001 0706016003 05...  \n",
       "\n",
       "[1371980 rows x 2 columns]"
      ]
     },
     "metadata": {},
     "output_type": "display_data"
    }
   ],
   "source": [
    "#merge all the results above\n",
    "from tqdm import tqdm\n",
    "customers=pd.read_csv(\"./data/h-and-m-personalized-fashion-recommendations/customers.csv\")\n",
    "ALL_USERS=customers.customer_id\n",
    "def submit():\n",
    "    preds = []\n",
    "    for user in tqdm(ALL_USERS):\n",
    "            preds.append((user, top12+' '+top121+' '+top122))\n",
    "    df_preds = pd.DataFrame(preds, columns=['customer_id', 'prediction'])\n",
    "    df_preds.to_feather(\"./data/Candidate_result/popular_base_total.feather\")\n",
    "    return df_preds\n",
    "df_preds = submit()\n",
    "display(df_preds)"
   ]
  },
  {
   "cell_type": "markdown",
   "metadata": {
    "id": "kQ1i4SejaD0s",
    "pycharm": {
     "name": "#%% md\n"
    }
   },
   "source": [
    "Now we consider every user case, in this time, we use Google's Colab to accomplish the calculation"
   ]
  },
  {
   "cell_type": "code",
   "execution_count": null,
   "metadata": {
    "id": "AUZ_xDkYczm0",
    "pycharm": {
     "name": "#%%\n"
    }
   },
   "outputs": [],
   "source": [
    "import pandas as pd\n",
    "transactions_train=pd.read_feather(\"./drive/MyDrive/Colab Notebooks/transactions_train.feature\")\n",
    "# find the most frequent-purchased 4 product types for every user\n",
    "transactions_train_withType=pd.merge(transactions_train,articles[[\"article_id\",\"product_type_name\"]],on=\"article_id\",how=\"left\")\n",
    "transactions_train_customer_mostpop=transactions_train_withType.groupby(\"customer_id\")[\"product_type_name\"].value_counts()\n",
    "transactions_train_customer_mostpop=pd.DataFrame(transactions_train_customer_mostpop)\n",
    "transactions_train_customer_mostpop.rename(columns={\"product_type_name\":\"count\"},inplace=True)\n",
    "transactions_train_customer_mostpop.reset_index(inplace=True)\n",
    "transactions_train_customer_mostpop=transactions_train_customer_mostpop.groupby(\"customer_id\").head(4)\n",
    "transactions_train_customer_mostpop[\"most_pop\"]=transactions_train_customer_mostpop.groupby(\"customer_id\")[\"product_type_name\"].transform(lambda x:\",\".join(x))\n",
    "transactions_train_customer_mostpop.to_feather(\"./drive/MyDrive/Colab Notebooks/transactions_train_customer_mostpop.feather\")"
   ]
  },
  {
   "cell_type": "code",
   "execution_count": 57,
   "metadata": {
    "executionInfo": {
     "elapsed": 4057,
     "status": "ok",
     "timestamp": 1648972465961,
     "user": {
      "displayName": "zh yao",
      "userId": "06523738908000903759"
     },
     "user_tz": -480
    },
    "id": "my8WyalkZ8vC",
    "pycharm": {
     "name": "#%%\n"
    }
   },
   "outputs": [],
   "source": [
    "import pandas as pd\n",
    "transactions_train_customer_mostpop=pd.read_feather(\"./drive/MyDrive/Colab Notebooks/transactions_train_customer_mostpop.feather\")\n",
    "articles=pd.read_csv(\"./drive/MyDrive/Colab Notebooks/articles.csv\",dtype={'article_id': str})\n",
    "poptables=pd.read_feather(\"./drive/MyDrive/Colab Notebooks/poptables.feather\")\n",
    "poptables.set_index(\"product_type_name\",inplace=True)\n",
    "transactions_train_customer_mostpop.drop_duplicates(subset=[\"customer_id\"],inplace=True)\n",
    "transactions_train_customer_mostpop"
   ]
  },
  {
   "cell_type": "code",
   "execution_count": 58,
   "metadata": {
    "executionInfo": {
     "elapsed": 10795,
     "status": "ok",
     "timestamp": 1648972481101,
     "user": {
      "displayName": "zh yao",
      "userId": "06523738908000903759"
     },
     "user_tz": -480
    },
    "id": "wpiIgyvmQeyO",
    "pycharm": {
     "name": "#%%\n"
    }
   },
   "outputs": [],
   "source": [
    "#Convert the dataFrame to a list\n",
    "mostpop_list=transactions_train_customer_mostpop.most_pop.str.split(',', expand=True).values.tolist()\n",
    "mostpop_list = [list(filter(None, subset)) for subset in mostpop_list]\n",
    "from tqdm import tqdm\n",
    "ALL_USERS=transactions_train_customer_mostpop.customer_id"
   ]
  },
  {
   "cell_type": "code",
   "execution_count": null,
   "outputs": [],
   "source": [
    "#Now we make a most popular items for every product type\n",
    "def get_top12(x):\n",
    " \"\"\"\n",
    " find the most popular 12items whose product_type is x\n",
    " :param x: product type name(string)\n",
    " :return: a item list\n",
    " \"\"\"\n",
    "  print(x)\n",
    "  articles_top=articles[articles[\"product_type_name\"]==x]\n",
    "  transactions_train_withType=pd.merge(transactions_train,articles_top[[\"article_id\",\"product_type_name\"]],on=\"article_id\",how=\"inner\")\n",
    "  top1 = transactions_train_withType.article_id.value_counts().index\n",
    "  print(top1[:12])\n",
    "  return top1[:12]\n",
    "\n",
    "articles=pd.read_csv(\"./drive/MyDrive/Colab Notebooks/articles.csv\",dtype={'article_id': str})\n",
    "poptables=pd.DataFrame(transactions_train_customer_mostpop.product_type_name.unique(),columns=[\"product_type_name\"])\n",
    "poptables[\"most_pop_items\"]=poptables[\"product_type_name\"].transform(lambda x:' '.join(get_top12(x).tolist()))\n",
    "poptables.to_feather(\"./drive/MyDrive/Colab Notebooks/poptables.feather\")"
   ],
   "metadata": {
    "collapsed": false,
    "pycharm": {
     "name": "#%%\n"
    }
   }
  },
  {
   "cell_type": "code",
   "execution_count": 59,
   "metadata": {
    "colab": {
     "base_uri": "https://localhost:8080/",
     "height": 441
    },
    "executionInfo": {
     "elapsed": 528079,
     "status": "ok",
     "timestamp": 1648973020622,
     "user": {
      "displayName": "zh yao",
      "userId": "06523738908000903759"
     },
     "user_tz": -480
    },
    "id": "0jKAOFBxTYRv",
    "outputId": "48f808c8-0172-423c-f666-2c380a65efd8",
    "pycharm": {
     "name": "#%%\n"
    }
   },
   "outputs": [
    {
     "name": "stderr",
     "output_type": "stream",
     "text": [
      "100%|██████████| 1362281/1362281 [08:44<00:00, 2598.58it/s]\n"
     ]
    },
    {
     "data": {
      "text/html": [
       "\n",
       "  <div id=\"df-573f16b5-720b-482d-bdeb-31b9ff14f970\">\n",
       "    <div class=\"colab-df-container\">\n",
       "      <div>\n",
       "<style scoped>\n",
       "    .dataframe tbody tr th:only-of-type {\n",
       "        vertical-align: middle;\n",
       "    }\n",
       "\n",
       "    .dataframe tbody tr th {\n",
       "        vertical-align: top;\n",
       "    }\n",
       "\n",
       "    .dataframe thead th {\n",
       "        text-align: right;\n",
       "    }\n",
       "</style>\n",
       "<table border=\"1\" class=\"dataframe\">\n",
       "  <thead>\n",
       "    <tr style=\"text-align: right;\">\n",
       "      <th></th>\n",
       "      <th>customer_id</th>\n",
       "      <th>prediction</th>\n",
       "    </tr>\n",
       "  </thead>\n",
       "  <tbody>\n",
       "    <tr>\n",
       "      <th>0</th>\n",
       "      <td>00000dbacae5abe5e23885899a1fa44253a17956c6d1c3...</td>\n",
       "      <td>0568601006 0568601007 0781613006 0636455003 08...</td>\n",
       "    </tr>\n",
       "    <tr>\n",
       "      <th>1</th>\n",
       "      <td>0000423b00ade91418cceaf3b26c6af3dd342b51fd051e...</td>\n",
       "      <td>0590928001 0684209004 0684209013 0699080001 06...</td>\n",
       "    </tr>\n",
       "    <tr>\n",
       "      <th>2</th>\n",
       "      <td>000058a12d5b43e67d225668fa1f8d618c13dc232df0ca...</td>\n",
       "      <td>0673677002 0537116001 0685813001 0591334003 06...</td>\n",
       "    </tr>\n",
       "    <tr>\n",
       "      <th>3</th>\n",
       "      <td>00005ca1c9ed5f5146b52ac8639a40ca9d57aeff4d1bd2...</td>\n",
       "      <td>0723469001 0564786001 0579302001 0736530007 02...</td>\n",
       "    </tr>\n",
       "    <tr>\n",
       "      <th>4</th>\n",
       "      <td>00006413d8573cd20ed7128e53b7b13819fe5cfc2d801f...</td>\n",
       "      <td>0487722001 0455832001 0793949002 0487722008 05...</td>\n",
       "    </tr>\n",
       "    <tr>\n",
       "      <th>...</th>\n",
       "      <td>...</td>\n",
       "      <td>...</td>\n",
       "    </tr>\n",
       "    <tr>\n",
       "      <th>1362276</th>\n",
       "      <td>ffffbbf78b6eaac697a8a5dfbfd2bfa8113ee5b403e474...</td>\n",
       "      <td>0464297007 0719655001 0611415001 0507883009 06...</td>\n",
       "    </tr>\n",
       "    <tr>\n",
       "      <th>1362277</th>\n",
       "      <td>ffffcd5046a6143d29a04fb8c424ce494a76e5cdf4fab5...</td>\n",
       "      <td>0610776002 0610776001 0717490008 0711053003 07...</td>\n",
       "    </tr>\n",
       "    <tr>\n",
       "      <th>1362278</th>\n",
       "      <td>ffffcf35913a0bee60e8741cb2b4e78b8a98ee5ff2e6a1...</td>\n",
       "      <td>0706016001 0706016002 0399223001 0706016003 05...</td>\n",
       "    </tr>\n",
       "    <tr>\n",
       "      <th>1362279</th>\n",
       "      <td>ffffd7744cebcf3aca44ae7049d2a94b87074c3d4ffe38...</td>\n",
       "      <td>0716348001 0401044004 0714824001 0612935009 07...</td>\n",
       "    </tr>\n",
       "    <tr>\n",
       "      <th>1362280</th>\n",
       "      <td>ffffd9ac14e89946416d80e791d064701994755c3ab686...</td>\n",
       "      <td>0502224001 0623115001 0709138001 0622955001 06...</td>\n",
       "    </tr>\n",
       "  </tbody>\n",
       "</table>\n",
       "<p>1362281 rows × 2 columns</p>\n",
       "</div>\n",
       "      <button class=\"colab-df-convert\" onclick=\"convertToInteractive('df-573f16b5-720b-482d-bdeb-31b9ff14f970')\"\n",
       "              title=\"Convert this dataframe to an interactive table.\"\n",
       "              style=\"display:none;\">\n",
       "        \n",
       "  <svg xmlns=\"http://www.w3.org/2000/svg\" height=\"24px\"viewBox=\"0 0 24 24\"\n",
       "       width=\"24px\">\n",
       "    <path d=\"M0 0h24v24H0V0z\" fill=\"none\"/>\n",
       "    <path d=\"M18.56 5.44l.94 2.06.94-2.06 2.06-.94-2.06-.94-.94-2.06-.94 2.06-2.06.94zm-11 1L8.5 8.5l.94-2.06 2.06-.94-2.06-.94L8.5 2.5l-.94 2.06-2.06.94zm10 10l.94 2.06.94-2.06 2.06-.94-2.06-.94-.94-2.06-.94 2.06-2.06.94z\"/><path d=\"M17.41 7.96l-1.37-1.37c-.4-.4-.92-.59-1.43-.59-.52 0-1.04.2-1.43.59L10.3 9.45l-7.72 7.72c-.78.78-.78 2.05 0 2.83L4 21.41c.39.39.9.59 1.41.59.51 0 1.02-.2 1.41-.59l7.78-7.78 2.81-2.81c.8-.78.8-2.07 0-2.86zM5.41 20L4 18.59l7.72-7.72 1.47 1.35L5.41 20z\"/>\n",
       "  </svg>\n",
       "      </button>\n",
       "      \n",
       "  <style>\n",
       "    .colab-df-container {\n",
       "      display:flex;\n",
       "      flex-wrap:wrap;\n",
       "      gap: 12px;\n",
       "    }\n",
       "\n",
       "    .colab-df-convert {\n",
       "      background-color: #E8F0FE;\n",
       "      border: none;\n",
       "      border-radius: 50%;\n",
       "      cursor: pointer;\n",
       "      display: none;\n",
       "      fill: #1967D2;\n",
       "      height: 32px;\n",
       "      padding: 0 0 0 0;\n",
       "      width: 32px;\n",
       "    }\n",
       "\n",
       "    .colab-df-convert:hover {\n",
       "      background-color: #E2EBFA;\n",
       "      box-shadow: 0px 1px 2px rgba(60, 64, 67, 0.3), 0px 1px 3px 1px rgba(60, 64, 67, 0.15);\n",
       "      fill: #174EA6;\n",
       "    }\n",
       "\n",
       "    [theme=dark] .colab-df-convert {\n",
       "      background-color: #3B4455;\n",
       "      fill: #D2E3FC;\n",
       "    }\n",
       "\n",
       "    [theme=dark] .colab-df-convert:hover {\n",
       "      background-color: #434B5C;\n",
       "      box-shadow: 0px 1px 3px 1px rgba(0, 0, 0, 0.15);\n",
       "      filter: drop-shadow(0px 1px 2px rgba(0, 0, 0, 0.3));\n",
       "      fill: #FFFFFF;\n",
       "    }\n",
       "  </style>\n",
       "\n",
       "      <script>\n",
       "        const buttonEl =\n",
       "          document.querySelector('#df-573f16b5-720b-482d-bdeb-31b9ff14f970 button.colab-df-convert');\n",
       "        buttonEl.style.display =\n",
       "          google.colab.kernel.accessAllowed ? 'block' : 'none';\n",
       "\n",
       "        async function convertToInteractive(key) {\n",
       "          const element = document.querySelector('#df-573f16b5-720b-482d-bdeb-31b9ff14f970');\n",
       "          const dataTable =\n",
       "            await google.colab.kernel.invokeFunction('convertToInteractive',\n",
       "                                                     [key], {});\n",
       "          if (!dataTable) return;\n",
       "\n",
       "          const docLinkHtml = 'Like what you see? Visit the ' +\n",
       "            '<a target=\"_blank\" href=https://colab.research.google.com/notebooks/data_table.ipynb>data table notebook</a>'\n",
       "            + ' to learn more about interactive tables.';\n",
       "          element.innerHTML = '';\n",
       "          dataTable['output_type'] = 'display_data';\n",
       "          await google.colab.output.renderOutput(dataTable, element);\n",
       "          const docLink = document.createElement('div');\n",
       "          docLink.innerHTML = docLinkHtml;\n",
       "          element.appendChild(docLink);\n",
       "        }\n",
       "      </script>\n",
       "    </div>\n",
       "  </div>\n",
       "  "
      ],
      "text/plain": [
       "                                               customer_id  \\\n",
       "0        00000dbacae5abe5e23885899a1fa44253a17956c6d1c3...   \n",
       "1        0000423b00ade91418cceaf3b26c6af3dd342b51fd051e...   \n",
       "2        000058a12d5b43e67d225668fa1f8d618c13dc232df0ca...   \n",
       "3        00005ca1c9ed5f5146b52ac8639a40ca9d57aeff4d1bd2...   \n",
       "4        00006413d8573cd20ed7128e53b7b13819fe5cfc2d801f...   \n",
       "...                                                    ...   \n",
       "1362276  ffffbbf78b6eaac697a8a5dfbfd2bfa8113ee5b403e474...   \n",
       "1362277  ffffcd5046a6143d29a04fb8c424ce494a76e5cdf4fab5...   \n",
       "1362278  ffffcf35913a0bee60e8741cb2b4e78b8a98ee5ff2e6a1...   \n",
       "1362279  ffffd7744cebcf3aca44ae7049d2a94b87074c3d4ffe38...   \n",
       "1362280  ffffd9ac14e89946416d80e791d064701994755c3ab686...   \n",
       "\n",
       "                                                prediction  \n",
       "0        0568601006 0568601007 0781613006 0636455003 08...  \n",
       "1        0590928001 0684209004 0684209013 0699080001 06...  \n",
       "2        0673677002 0537116001 0685813001 0591334003 06...  \n",
       "3        0723469001 0564786001 0579302001 0736530007 02...  \n",
       "4        0487722001 0455832001 0793949002 0487722008 05...  \n",
       "...                                                    ...  \n",
       "1362276  0464297007 0719655001 0611415001 0507883009 06...  \n",
       "1362277  0610776002 0610776001 0717490008 0711053003 07...  \n",
       "1362278  0706016001 0706016002 0399223001 0706016003 05...  \n",
       "1362279  0716348001 0401044004 0714824001 0612935009 07...  \n",
       "1362280  0502224001 0623115001 0709138001 0622955001 06...  \n",
       "\n",
       "[1362281 rows x 2 columns]"
      ]
     },
     "metadata": {},
     "output_type": "display_data"
    }
   ],
   "source": [
    "#use the popular table to generate the final result\n",
    "def submit():\n",
    "    preds = []\n",
    "    for i in tqdm(range(len(ALL_USERS))):\n",
    "      user=ALL_USERS.iloc[i]\n",
    "      article_list=[]\n",
    "      pop_type=mostpop_list[i]\n",
    "      article_2_list=poptables.loc[pop_type].values.tolist()\n",
    "      article_list=\" \".join([article for articles in article_2_list for article in articles])\n",
    "      preds.append((user, article_list))\n",
    "    df_preds = pd.DataFrame(preds, columns=['customer_id', 'prediction'])\n",
    "    df_preds.to_feather(\"./drive/MyDrive/Colab Notebooks/popular_base_every.feather\")\n",
    "    return df_preds\n",
    "df_preds = submit()\n",
    "display(df_preds)"
   ]
  },
  {
   "cell_type": "markdown",
   "metadata": {
    "id": "1DZ0Q3wadG5S",
    "pycharm": {
     "name": "#%% md\n"
    }
   },
   "source": [
    "Now we consider product group_name for every user, and the process is the same as the above"
   ]
  },
  {
   "cell_type": "code",
   "execution_count": 79,
   "metadata": {
    "executionInfo": {
     "elapsed": 71614,
     "status": "ok",
     "timestamp": 1648975806358,
     "user": {
      "displayName": "zh yao",
      "userId": "06523738908000903759"
     },
     "user_tz": -480
    },
    "id": "glFfa0eAdNKG",
    "pycharm": {
     "name": "#%%\n"
    }
   },
   "outputs": [],
   "source": [
    "import pandas as pd\n",
    "transactions_train=pd.read_feather(\"./drive/MyDrive/Colab Notebooks/transactions_train.feature\")\n",
    "transactions_train_withType=pd.merge(transactions_train,articles[[\"article_id\",\"product_group_name\"]],on=\"article_id\",how=\"left\")\n",
    "transactions_train_customer_mostpop=transactions_train_withType.groupby(\"customer_id\")[\"product_group_name\"].value_counts()\n",
    "transactions_train_customer_mostpop=pd.DataFrame(transactions_train_customer_mostpop)\n",
    "transactions_train_customer_mostpop.rename(columns={\"product_group_name\":\"count\"},inplace=True)\n",
    "transactions_train_customer_mostpop.reset_index(inplace=True)\n",
    "transactions_train_customer_mostpop=transactions_train_customer_mostpop.groupby(\"customer_id\").head(4)\n",
    "transactions_train_customer_mostpop[\"most_pop\"]=transactions_train_customer_mostpop.groupby(\"customer_id\")[\"product_group_name\"].transform(lambda x:\",\".join(x))\n",
    "transactions_train_customer_mostpop.reset_index(inplace=True)\n",
    "transactions_train_customer_mostpop.to_feather(\"./drive/MyDrive/Colab Notebooks/transactions_train_customer_mostpop_group.feather\")\n",
    "# transactions_train_customer_mostpop"
   ]
  },
  {
   "cell_type": "code",
   "execution_count": 87,
   "metadata": {
    "colab": {
     "base_uri": "https://localhost:8080/",
     "height": 468
    },
    "executionInfo": {
     "elapsed": 838,
     "status": "ok",
     "timestamp": 1648976192997,
     "user": {
      "displayName": "zh yao",
      "userId": "06523738908000903759"
     },
     "user_tz": -480
    },
    "id": "vQdgsS2AnQA0",
    "outputId": "2f75cb1a-eff9-4c1c-d80e-7f78bd75faed",
    "pycharm": {
     "name": "#%%\n"
    }
   },
   "outputs": [
    {
     "data": {
      "text/html": [
       "\n",
       "  <div id=\"df-92353064-5e54-4bf4-82dd-c884fa59174a\">\n",
       "    <div class=\"colab-df-container\">\n",
       "      <div>\n",
       "<style scoped>\n",
       "    .dataframe tbody tr th:only-of-type {\n",
       "        vertical-align: middle;\n",
       "    }\n",
       "\n",
       "    .dataframe tbody tr th {\n",
       "        vertical-align: top;\n",
       "    }\n",
       "\n",
       "    .dataframe thead th {\n",
       "        text-align: right;\n",
       "    }\n",
       "</style>\n",
       "<table border=\"1\" class=\"dataframe\">\n",
       "  <thead>\n",
       "    <tr style=\"text-align: right;\">\n",
       "      <th></th>\n",
       "      <th>index</th>\n",
       "      <th>customer_id</th>\n",
       "      <th>product_group_name</th>\n",
       "      <th>count</th>\n",
       "      <th>most_pop</th>\n",
       "    </tr>\n",
       "  </thead>\n",
       "  <tbody>\n",
       "    <tr>\n",
       "      <th>0</th>\n",
       "      <td>0</td>\n",
       "      <td>00000dbacae5abe5e23885899a1fa44253a17956c6d1c3...</td>\n",
       "      <td>Garment Upper body</td>\n",
       "      <td>16</td>\n",
       "      <td>Garment Upper body,Garment Full body,Garment L...</td>\n",
       "    </tr>\n",
       "    <tr>\n",
       "      <th>1</th>\n",
       "      <td>1</td>\n",
       "      <td>00000dbacae5abe5e23885899a1fa44253a17956c6d1c3...</td>\n",
       "      <td>Garment Full body</td>\n",
       "      <td>2</td>\n",
       "      <td>Garment Upper body,Garment Full body,Garment L...</td>\n",
       "    </tr>\n",
       "    <tr>\n",
       "      <th>2</th>\n",
       "      <td>2</td>\n",
       "      <td>00000dbacae5abe5e23885899a1fa44253a17956c6d1c3...</td>\n",
       "      <td>Garment Lower body</td>\n",
       "      <td>2</td>\n",
       "      <td>Garment Upper body,Garment Full body,Garment L...</td>\n",
       "    </tr>\n",
       "    <tr>\n",
       "      <th>3</th>\n",
       "      <td>3</td>\n",
       "      <td>00000dbacae5abe5e23885899a1fa44253a17956c6d1c3...</td>\n",
       "      <td>Accessories</td>\n",
       "      <td>1</td>\n",
       "      <td>Garment Upper body,Garment Full body,Garment L...</td>\n",
       "    </tr>\n",
       "    <tr>\n",
       "      <th>4</th>\n",
       "      <td>4</td>\n",
       "      <td>0000423b00ade91418cceaf3b26c6af3dd342b51fd051e...</td>\n",
       "      <td>Swimwear</td>\n",
       "      <td>33</td>\n",
       "      <td>Swimwear,Garment Upper body,Garment Full body,...</td>\n",
       "    </tr>\n",
       "    <tr>\n",
       "      <th>...</th>\n",
       "      <td>...</td>\n",
       "      <td>...</td>\n",
       "      <td>...</td>\n",
       "      <td>...</td>\n",
       "      <td>...</td>\n",
       "    </tr>\n",
       "    <tr>\n",
       "      <th>3825893</th>\n",
       "      <td>4884144</td>\n",
       "      <td>ffffd7744cebcf3aca44ae7049d2a94b87074c3d4ffe38...</td>\n",
       "      <td>Garment Full body</td>\n",
       "      <td>2</td>\n",
       "      <td>Garment Full body,Underwear,Garment Lower body...</td>\n",
       "    </tr>\n",
       "    <tr>\n",
       "      <th>3825894</th>\n",
       "      <td>4884145</td>\n",
       "      <td>ffffd7744cebcf3aca44ae7049d2a94b87074c3d4ffe38...</td>\n",
       "      <td>Underwear</td>\n",
       "      <td>2</td>\n",
       "      <td>Garment Full body,Underwear,Garment Lower body...</td>\n",
       "    </tr>\n",
       "    <tr>\n",
       "      <th>3825895</th>\n",
       "      <td>4884146</td>\n",
       "      <td>ffffd7744cebcf3aca44ae7049d2a94b87074c3d4ffe38...</td>\n",
       "      <td>Garment Lower body</td>\n",
       "      <td>1</td>\n",
       "      <td>Garment Full body,Underwear,Garment Lower body...</td>\n",
       "    </tr>\n",
       "    <tr>\n",
       "      <th>3825896</th>\n",
       "      <td>4884147</td>\n",
       "      <td>ffffd7744cebcf3aca44ae7049d2a94b87074c3d4ffe38...</td>\n",
       "      <td>Garment Upper body</td>\n",
       "      <td>1</td>\n",
       "      <td>Garment Full body,Underwear,Garment Lower body...</td>\n",
       "    </tr>\n",
       "    <tr>\n",
       "      <th>3825897</th>\n",
       "      <td>4884149</td>\n",
       "      <td>ffffd9ac14e89946416d80e791d064701994755c3ab686...</td>\n",
       "      <td>Shoes</td>\n",
       "      <td>1</td>\n",
       "      <td>Shoes</td>\n",
       "    </tr>\n",
       "  </tbody>\n",
       "</table>\n",
       "<p>3825898 rows × 5 columns</p>\n",
       "</div>\n",
       "      <button class=\"colab-df-convert\" onclick=\"convertToInteractive('df-92353064-5e54-4bf4-82dd-c884fa59174a')\"\n",
       "              title=\"Convert this dataframe to an interactive table.\"\n",
       "              style=\"display:none;\">\n",
       "        \n",
       "  <svg xmlns=\"http://www.w3.org/2000/svg\" height=\"24px\"viewBox=\"0 0 24 24\"\n",
       "       width=\"24px\">\n",
       "    <path d=\"M0 0h24v24H0V0z\" fill=\"none\"/>\n",
       "    <path d=\"M18.56 5.44l.94 2.06.94-2.06 2.06-.94-2.06-.94-.94-2.06-.94 2.06-2.06.94zm-11 1L8.5 8.5l.94-2.06 2.06-.94-2.06-.94L8.5 2.5l-.94 2.06-2.06.94zm10 10l.94 2.06.94-2.06 2.06-.94-2.06-.94-.94-2.06-.94 2.06-2.06.94z\"/><path d=\"M17.41 7.96l-1.37-1.37c-.4-.4-.92-.59-1.43-.59-.52 0-1.04.2-1.43.59L10.3 9.45l-7.72 7.72c-.78.78-.78 2.05 0 2.83L4 21.41c.39.39.9.59 1.41.59.51 0 1.02-.2 1.41-.59l7.78-7.78 2.81-2.81c.8-.78.8-2.07 0-2.86zM5.41 20L4 18.59l7.72-7.72 1.47 1.35L5.41 20z\"/>\n",
       "  </svg>\n",
       "      </button>\n",
       "      \n",
       "  <style>\n",
       "    .colab-df-container {\n",
       "      display:flex;\n",
       "      flex-wrap:wrap;\n",
       "      gap: 12px;\n",
       "    }\n",
       "\n",
       "    .colab-df-convert {\n",
       "      background-color: #E8F0FE;\n",
       "      border: none;\n",
       "      border-radius: 50%;\n",
       "      cursor: pointer;\n",
       "      display: none;\n",
       "      fill: #1967D2;\n",
       "      height: 32px;\n",
       "      padding: 0 0 0 0;\n",
       "      width: 32px;\n",
       "    }\n",
       "\n",
       "    .colab-df-convert:hover {\n",
       "      background-color: #E2EBFA;\n",
       "      box-shadow: 0px 1px 2px rgba(60, 64, 67, 0.3), 0px 1px 3px 1px rgba(60, 64, 67, 0.15);\n",
       "      fill: #174EA6;\n",
       "    }\n",
       "\n",
       "    [theme=dark] .colab-df-convert {\n",
       "      background-color: #3B4455;\n",
       "      fill: #D2E3FC;\n",
       "    }\n",
       "\n",
       "    [theme=dark] .colab-df-convert:hover {\n",
       "      background-color: #434B5C;\n",
       "      box-shadow: 0px 1px 3px 1px rgba(0, 0, 0, 0.15);\n",
       "      filter: drop-shadow(0px 1px 2px rgba(0, 0, 0, 0.3));\n",
       "      fill: #FFFFFF;\n",
       "    }\n",
       "  </style>\n",
       "\n",
       "      <script>\n",
       "        const buttonEl =\n",
       "          document.querySelector('#df-92353064-5e54-4bf4-82dd-c884fa59174a button.colab-df-convert');\n",
       "        buttonEl.style.display =\n",
       "          google.colab.kernel.accessAllowed ? 'block' : 'none';\n",
       "\n",
       "        async function convertToInteractive(key) {\n",
       "          const element = document.querySelector('#df-92353064-5e54-4bf4-82dd-c884fa59174a');\n",
       "          const dataTable =\n",
       "            await google.colab.kernel.invokeFunction('convertToInteractive',\n",
       "                                                     [key], {});\n",
       "          if (!dataTable) return;\n",
       "\n",
       "          const docLinkHtml = 'Like what you see? Visit the ' +\n",
       "            '<a target=\"_blank\" href=https://colab.research.google.com/notebooks/data_table.ipynb>data table notebook</a>'\n",
       "            + ' to learn more about interactive tables.';\n",
       "          element.innerHTML = '';\n",
       "          dataTable['output_type'] = 'display_data';\n",
       "          await google.colab.output.renderOutput(dataTable, element);\n",
       "          const docLink = document.createElement('div');\n",
       "          docLink.innerHTML = docLinkHtml;\n",
       "          element.appendChild(docLink);\n",
       "        }\n",
       "      </script>\n",
       "    </div>\n",
       "  </div>\n",
       "  "
      ],
      "text/plain": [
       "           index                                        customer_id  \\\n",
       "0              0  00000dbacae5abe5e23885899a1fa44253a17956c6d1c3...   \n",
       "1              1  00000dbacae5abe5e23885899a1fa44253a17956c6d1c3...   \n",
       "2              2  00000dbacae5abe5e23885899a1fa44253a17956c6d1c3...   \n",
       "3              3  00000dbacae5abe5e23885899a1fa44253a17956c6d1c3...   \n",
       "4              4  0000423b00ade91418cceaf3b26c6af3dd342b51fd051e...   \n",
       "...          ...                                                ...   \n",
       "3825893  4884144  ffffd7744cebcf3aca44ae7049d2a94b87074c3d4ffe38...   \n",
       "3825894  4884145  ffffd7744cebcf3aca44ae7049d2a94b87074c3d4ffe38...   \n",
       "3825895  4884146  ffffd7744cebcf3aca44ae7049d2a94b87074c3d4ffe38...   \n",
       "3825896  4884147  ffffd7744cebcf3aca44ae7049d2a94b87074c3d4ffe38...   \n",
       "3825897  4884149  ffffd9ac14e89946416d80e791d064701994755c3ab686...   \n",
       "\n",
       "         product_group_name  count  \\\n",
       "0        Garment Upper body     16   \n",
       "1         Garment Full body      2   \n",
       "2        Garment Lower body      2   \n",
       "3               Accessories      1   \n",
       "4                  Swimwear     33   \n",
       "...                     ...    ...   \n",
       "3825893   Garment Full body      2   \n",
       "3825894           Underwear      2   \n",
       "3825895  Garment Lower body      1   \n",
       "3825896  Garment Upper body      1   \n",
       "3825897               Shoes      1   \n",
       "\n",
       "                                                  most_pop  \n",
       "0        Garment Upper body,Garment Full body,Garment L...  \n",
       "1        Garment Upper body,Garment Full body,Garment L...  \n",
       "2        Garment Upper body,Garment Full body,Garment L...  \n",
       "3        Garment Upper body,Garment Full body,Garment L...  \n",
       "4        Swimwear,Garment Upper body,Garment Full body,...  \n",
       "...                                                    ...  \n",
       "3825893  Garment Full body,Underwear,Garment Lower body...  \n",
       "3825894  Garment Full body,Underwear,Garment Lower body...  \n",
       "3825895  Garment Full body,Underwear,Garment Lower body...  \n",
       "3825896  Garment Full body,Underwear,Garment Lower body...  \n",
       "3825897                                              Shoes  \n",
       "\n",
       "[3825898 rows x 5 columns]"
      ]
     },
     "execution_count": 87,
     "metadata": {},
     "output_type": "execute_result"
    }
   ],
   "source": [
    "transactions_train_customer_mostpop"
   ]
  },
  {
   "cell_type": "code",
   "execution_count": 88,
   "metadata": {
    "colab": {
     "base_uri": "https://localhost:8080/"
    },
    "executionInfo": {
     "elapsed": 123823,
     "status": "ok",
     "timestamp": 1648976325510,
     "user": {
      "displayName": "zh yao",
      "userId": "06523738908000903759"
     },
     "user_tz": -480
    },
    "id": "X7aBjTFndhaO",
    "outputId": "7a26b193-0265-4ae3-a834-92c3dac6ec71",
    "pycharm": {
     "name": "#%%\n"
    }
   },
   "outputs": [
    {
     "name": "stdout",
     "output_type": "stream",
     "text": [
      "Garment Upper body\n",
      "Index(['0610776002', '0759871002', '0610776001', '0568601006', '0673677002',\n",
      "       '0579541001', '0507909001', '0572797001', '0565379001', '0717490008',\n",
      "       '0749699002', '0678942001'],\n",
      "      dtype='object')\n",
      "Garment Full body\n",
      "Index(['0294008002', '0716348001', '0401044004', '0714824001', '0612935009',\n",
      "       '0721298001', '0762063001', '0883033002', '0841434001', '0745475001',\n",
      "       '0880839001', '0817353008'],\n",
      "      dtype='object')\n",
      "Garment Lower body\n",
      "Index(['0706016001', '0706016002', '0399223001', '0706016003', '0720125001',\n",
      "       '0562245046', '0562245001', '0399256001', '0448509014', '0751471001',\n",
      "       '0573716012', '0158340001'],\n",
      "      dtype='object')\n",
      "Accessories\n",
      "Index(['0673396002', '0759465001', '0179950001', '0664405002', '0556539003',\n",
      "       '0516859008', '0759469001', '0556539001', '0589748001', '0743098001',\n",
      "       '0224606019', '0759482001'],\n",
      "      dtype='object')\n",
      "Swimwear\n",
      "Index(['0351484002', '0688537004', '0590928001', '0599580017', '0684209004',\n",
      "       '0688537011', '0600886001', '0684209013', '0699080001', '0689109001',\n",
      "       '0599580038', '0723529001'],\n",
      "      dtype='object')\n",
      "Underwear\n",
      "Index(['0464297007', '0719655001', '0723469001', '0611415001', '0564786001',\n",
      "       '0579302001', '0736530007', '0507883009', '0611415005', '0470789001',\n",
      "       '0748355003', '0253448003'],\n",
      "      dtype='object')\n",
      "Shoes\n",
      "Index(['0349301001', '0469039019', '0502224001', '0623115001', '0734460001',\n",
      "       '0709138001', '0736489003', '0622955001', '0822344001', '0622958003',\n",
      "       '0710056003', '0470985003'],\n",
      "      dtype='object')\n",
      "Nightwear\n",
      "Index(['0536139006', '0756322001', '0536139010', '0649437002', '0700851001',\n",
      "       '0536139012', '0783507001', '0769814012', '0769814002', '0613497003',\n",
      "       '0649437001', '0429322001'],\n",
      "      dtype='object')\n",
      "Unknown\n",
      "Index(['0719957006', '0700701001', '0473954008', '0700701002', '0730683050',\n",
      "       '0707269003', '0855080001', '0852584001', '0700701003', '0505882002',\n",
      "       '0733067001', '0815434001'],\n",
      "      dtype='object')\n",
      "Socks & Tights\n",
      "Index(['0372860001', '0372860002', '0156231001', '0608776002', '0160442007',\n",
      "       '0160442010', '0111593001', '0228257001', '0200182001', '0542402001',\n",
      "       '0575347003', '0372860024'],\n",
      "      dtype='object')\n",
      "Items\n",
      "Index(['0322017003', '0130035001', '0855507001', '0855507002', '0915101002',\n",
      "       '0916926003', '0855507004', '0795921001', '0906382001', '0916926006',\n",
      "       '0934312002', '0934312001'],\n",
      "      dtype='object')\n",
      "Bags\n",
      "Index(['0633152012', '0765308002', '0682238003', '0753475001', '0822568001',\n",
      "       '0721805001', '0851124001', '0887912002', '0650534001', '0682238013',\n",
      "       '0892519001', '0721805010'],\n",
      "      dtype='object')\n",
      "Furniture\n",
      "Index(['0738257001', '0848834001', '0738178001', '0827316001', '0748892001',\n",
      "       '0738282001', '0738103001', '0848822001', '0816852001', '0816857001',\n",
      "       '0822348001', '0816830001'],\n",
      "      dtype='object')\n",
      "Cosmetic\n",
      "Index(['0714641001', '0505573005', '0659143001', '0659124001', '0659179001',\n",
      "       '0674959001', '0633960002', '0624249001', '0633960003', '0633960001',\n",
      "       '0633588001', '0505573004'],\n",
      "      dtype='object')\n",
      "Interior textile\n",
      "Index(['0615576001', '0670590001', '0832168001'], dtype='object')\n",
      "Garment and Shoe care\n",
      "Index(['0816846001', '0850239001', '0816814001', '0920592001', '0852390001',\n",
      "       '0852389001', '0852393001', '0920591001', '0920602001'],\n",
      "      dtype='object')\n",
      "Underwear/nightwear\n",
      "Index(['0176550020', '0657719006', '0657719014', '0657719003', '0487937004',\n",
      "       '0657719002', '0594681001', '0810737001', '0657719013', '0657719007',\n",
      "       '0657719001', '0425529003'],\n",
      "      dtype='object')\n",
      "Stationery\n",
      "Index(['0874961001', '0874961004', '0874961002', '0874961003', '0874961005'], dtype='object')\n",
      "Fun\n",
      "Index(['0924851002', '0867904001'], dtype='object')\n"
     ]
    }
   ],
   "source": [
    "\n",
    "def get_top12(x):\n",
    "  print(x)\n",
    "  articles_top=articles[articles[\"product_group_name\"]==x]\n",
    "  transactions_train_withType=pd.merge(transactions_train,articles_top[[\"article_id\",\"product_group_name\"]],on=\"article_id\",how=\"inner\")\n",
    "  top1 = transactions_train_withType.article_id.value_counts().index\n",
    "  print(top1[:12])\n",
    "  return top1[:12]\n",
    "\n",
    "articles=pd.read_csv(\"./drive/MyDrive/Colab Notebooks/articles.csv\",dtype={'article_id': str})\n",
    "poptables=pd.DataFrame(transactions_train_customer_mostpop.product_group_name.unique(),columns=[\"product_group_name\"])\n",
    "poptables[\"most_pop_items\"]=poptables[\"product_group_name\"].transform(lambda x:' '.join(get_top12(x).tolist()))\n",
    "poptables.to_feather(\"./drive/MyDrive/Colab Notebooks/poptables_group.feather\")"
   ]
  },
  {
   "cell_type": "code",
   "execution_count": 1,
   "metadata": {
    "colab": {
     "base_uri": "https://localhost:8080/",
     "height": 441
    },
    "executionInfo": {
     "elapsed": 545621,
     "status": "ok",
     "timestamp": 1648977563925,
     "user": {
      "displayName": "zh yao",
      "userId": "06523738908000903759"
     },
     "user_tz": -480
    },
    "id": "Ujk2LlMBd233",
    "outputId": "c8f61a1c-726c-4bff-ee9a-b4438fa15452",
    "pycharm": {
     "name": "#%%\n"
    }
   },
   "outputs": [
    {
     "name": "stderr",
     "output_type": "stream",
     "text": [
      "100%|██████████| 1362281/1362281 [08:39<00:00, 2620.06it/s]\n"
     ]
    },
    {
     "data": {
      "text/html": [
       "\n",
       "  <div id=\"df-adce2552-4522-47a3-bb82-208b4a8b837a\">\n",
       "    <div class=\"colab-df-container\">\n",
       "      <div>\n",
       "<style scoped>\n",
       "    .dataframe tbody tr th:only-of-type {\n",
       "        vertical-align: middle;\n",
       "    }\n",
       "\n",
       "    .dataframe tbody tr th {\n",
       "        vertical-align: top;\n",
       "    }\n",
       "\n",
       "    .dataframe thead th {\n",
       "        text-align: right;\n",
       "    }\n",
       "</style>\n",
       "<table border=\"1\" class=\"dataframe\">\n",
       "  <thead>\n",
       "    <tr style=\"text-align: right;\">\n",
       "      <th></th>\n",
       "      <th>customer_id</th>\n",
       "      <th>prediction</th>\n",
       "    </tr>\n",
       "  </thead>\n",
       "  <tbody>\n",
       "    <tr>\n",
       "      <th>0</th>\n",
       "      <td>00000dbacae5abe5e23885899a1fa44253a17956c6d1c3...</td>\n",
       "      <td>0610776002 0759871002 0610776001 0568601006 06...</td>\n",
       "    </tr>\n",
       "    <tr>\n",
       "      <th>1</th>\n",
       "      <td>0000423b00ade91418cceaf3b26c6af3dd342b51fd051e...</td>\n",
       "      <td>0351484002 0688537004 0590928001 0599580017 06...</td>\n",
       "    </tr>\n",
       "    <tr>\n",
       "      <th>2</th>\n",
       "      <td>000058a12d5b43e67d225668fa1f8d618c13dc232df0ca...</td>\n",
       "      <td>0610776002 0759871002 0610776001 0568601006 06...</td>\n",
       "    </tr>\n",
       "    <tr>\n",
       "      <th>3</th>\n",
       "      <td>00005ca1c9ed5f5146b52ac8639a40ca9d57aeff4d1bd2...</td>\n",
       "      <td>0464297007 0719655001 0723469001 0611415001 05...</td>\n",
       "    </tr>\n",
       "    <tr>\n",
       "      <th>4</th>\n",
       "      <td>00006413d8573cd20ed7128e53b7b13819fe5cfc2d801f...</td>\n",
       "      <td>0610776002 0759871002 0610776001 0568601006 06...</td>\n",
       "    </tr>\n",
       "    <tr>\n",
       "      <th>...</th>\n",
       "      <td>...</td>\n",
       "      <td>...</td>\n",
       "    </tr>\n",
       "    <tr>\n",
       "      <th>1362276</th>\n",
       "      <td>ffffbbf78b6eaac697a8a5dfbfd2bfa8113ee5b403e474...</td>\n",
       "      <td>0351484002 0688537004 0590928001 0599580017 06...</td>\n",
       "    </tr>\n",
       "    <tr>\n",
       "      <th>1362277</th>\n",
       "      <td>ffffcd5046a6143d29a04fb8c424ce494a76e5cdf4fab5...</td>\n",
       "      <td>0610776002 0759871002 0610776001 0568601006 06...</td>\n",
       "    </tr>\n",
       "    <tr>\n",
       "      <th>1362278</th>\n",
       "      <td>ffffcf35913a0bee60e8741cb2b4e78b8a98ee5ff2e6a1...</td>\n",
       "      <td>0610776002 0759871002 0610776001 0568601006 06...</td>\n",
       "    </tr>\n",
       "    <tr>\n",
       "      <th>1362279</th>\n",
       "      <td>ffffd7744cebcf3aca44ae7049d2a94b87074c3d4ffe38...</td>\n",
       "      <td>0294008002 0716348001 0401044004 0714824001 06...</td>\n",
       "    </tr>\n",
       "    <tr>\n",
       "      <th>1362280</th>\n",
       "      <td>ffffd9ac14e89946416d80e791d064701994755c3ab686...</td>\n",
       "      <td>0349301001 0469039019 0502224001 0623115001 07...</td>\n",
       "    </tr>\n",
       "  </tbody>\n",
       "</table>\n",
       "<p>1362281 rows × 2 columns</p>\n",
       "</div>\n",
       "      <button class=\"colab-df-convert\" onclick=\"convertToInteractive('df-adce2552-4522-47a3-bb82-208b4a8b837a')\"\n",
       "              title=\"Convert this dataframe to an interactive table.\"\n",
       "              style=\"display:none;\">\n",
       "        \n",
       "  <svg xmlns=\"http://www.w3.org/2000/svg\" height=\"24px\"viewBox=\"0 0 24 24\"\n",
       "       width=\"24px\">\n",
       "    <path d=\"M0 0h24v24H0V0z\" fill=\"none\"/>\n",
       "    <path d=\"M18.56 5.44l.94 2.06.94-2.06 2.06-.94-2.06-.94-.94-2.06-.94 2.06-2.06.94zm-11 1L8.5 8.5l.94-2.06 2.06-.94-2.06-.94L8.5 2.5l-.94 2.06-2.06.94zm10 10l.94 2.06.94-2.06 2.06-.94-2.06-.94-.94-2.06-.94 2.06-2.06.94z\"/><path d=\"M17.41 7.96l-1.37-1.37c-.4-.4-.92-.59-1.43-.59-.52 0-1.04.2-1.43.59L10.3 9.45l-7.72 7.72c-.78.78-.78 2.05 0 2.83L4 21.41c.39.39.9.59 1.41.59.51 0 1.02-.2 1.41-.59l7.78-7.78 2.81-2.81c.8-.78.8-2.07 0-2.86zM5.41 20L4 18.59l7.72-7.72 1.47 1.35L5.41 20z\"/>\n",
       "  </svg>\n",
       "      </button>\n",
       "      \n",
       "  <style>\n",
       "    .colab-df-container {\n",
       "      display:flex;\n",
       "      flex-wrap:wrap;\n",
       "      gap: 12px;\n",
       "    }\n",
       "\n",
       "    .colab-df-convert {\n",
       "      background-color: #E8F0FE;\n",
       "      border: none;\n",
       "      border-radius: 50%;\n",
       "      cursor: pointer;\n",
       "      display: none;\n",
       "      fill: #1967D2;\n",
       "      height: 32px;\n",
       "      padding: 0 0 0 0;\n",
       "      width: 32px;\n",
       "    }\n",
       "\n",
       "    .colab-df-convert:hover {\n",
       "      background-color: #E2EBFA;\n",
       "      box-shadow: 0px 1px 2px rgba(60, 64, 67, 0.3), 0px 1px 3px 1px rgba(60, 64, 67, 0.15);\n",
       "      fill: #174EA6;\n",
       "    }\n",
       "\n",
       "    [theme=dark] .colab-df-convert {\n",
       "      background-color: #3B4455;\n",
       "      fill: #D2E3FC;\n",
       "    }\n",
       "\n",
       "    [theme=dark] .colab-df-convert:hover {\n",
       "      background-color: #434B5C;\n",
       "      box-shadow: 0px 1px 3px 1px rgba(0, 0, 0, 0.15);\n",
       "      filter: drop-shadow(0px 1px 2px rgba(0, 0, 0, 0.3));\n",
       "      fill: #FFFFFF;\n",
       "    }\n",
       "  </style>\n",
       "\n",
       "      <script>\n",
       "        const buttonEl =\n",
       "          document.querySelector('#df-adce2552-4522-47a3-bb82-208b4a8b837a button.colab-df-convert');\n",
       "        buttonEl.style.display =\n",
       "          google.colab.kernel.accessAllowed ? 'block' : 'none';\n",
       "\n",
       "        async function convertToInteractive(key) {\n",
       "          const element = document.querySelector('#df-adce2552-4522-47a3-bb82-208b4a8b837a');\n",
       "          const dataTable =\n",
       "            await google.colab.kernel.invokeFunction('convertToInteractive',\n",
       "                                                     [key], {});\n",
       "          if (!dataTable) return;\n",
       "\n",
       "          const docLinkHtml = 'Like what you see? Visit the ' +\n",
       "            '<a target=\"_blank\" href=https://colab.research.google.com/notebooks/data_table.ipynb>data table notebook</a>'\n",
       "            + ' to learn more about interactive tables.';\n",
       "          element.innerHTML = '';\n",
       "          dataTable['output_type'] = 'display_data';\n",
       "          await google.colab.output.renderOutput(dataTable, element);\n",
       "          const docLink = document.createElement('div');\n",
       "          docLink.innerHTML = docLinkHtml;\n",
       "          element.appendChild(docLink);\n",
       "        }\n",
       "      </script>\n",
       "    </div>\n",
       "  </div>\n",
       "  "
      ],
      "text/plain": [
       "                                               customer_id  \\\n",
       "0        00000dbacae5abe5e23885899a1fa44253a17956c6d1c3...   \n",
       "1        0000423b00ade91418cceaf3b26c6af3dd342b51fd051e...   \n",
       "2        000058a12d5b43e67d225668fa1f8d618c13dc232df0ca...   \n",
       "3        00005ca1c9ed5f5146b52ac8639a40ca9d57aeff4d1bd2...   \n",
       "4        00006413d8573cd20ed7128e53b7b13819fe5cfc2d801f...   \n",
       "...                                                    ...   \n",
       "1362276  ffffbbf78b6eaac697a8a5dfbfd2bfa8113ee5b403e474...   \n",
       "1362277  ffffcd5046a6143d29a04fb8c424ce494a76e5cdf4fab5...   \n",
       "1362278  ffffcf35913a0bee60e8741cb2b4e78b8a98ee5ff2e6a1...   \n",
       "1362279  ffffd7744cebcf3aca44ae7049d2a94b87074c3d4ffe38...   \n",
       "1362280  ffffd9ac14e89946416d80e791d064701994755c3ab686...   \n",
       "\n",
       "                                                prediction  \n",
       "0        0610776002 0759871002 0610776001 0568601006 06...  \n",
       "1        0351484002 0688537004 0590928001 0599580017 06...  \n",
       "2        0610776002 0759871002 0610776001 0568601006 06...  \n",
       "3        0464297007 0719655001 0723469001 0611415001 05...  \n",
       "4        0610776002 0759871002 0610776001 0568601006 06...  \n",
       "...                                                    ...  \n",
       "1362276  0351484002 0688537004 0590928001 0599580017 06...  \n",
       "1362277  0610776002 0759871002 0610776001 0568601006 06...  \n",
       "1362278  0610776002 0759871002 0610776001 0568601006 06...  \n",
       "1362279  0294008002 0716348001 0401044004 0714824001 06...  \n",
       "1362280  0349301001 0469039019 0502224001 0623115001 07...  \n",
       "\n",
       "[1362281 rows x 2 columns]"
      ]
     },
     "metadata": {},
     "output_type": "display_data"
    }
   ],
   "source": [
    "import pandas as pd\n",
    "transactions_train_customer_mostpop=pd.read_feather(\"./drive/MyDrive/Colab Notebooks/transactions_train_customer_mostpop_group.feather\")\n",
    "transactions_train_customer_mostpop.drop_duplicates(subset=[\"customer_id\"],inplace=True)\n",
    "transactions_train_customer_mostpop.reset_index(inplace=True)\n",
    "articles=pd.read_csv(\"./drive/MyDrive/Colab Notebooks/articles.csv\",dtype={'article_id': str})\n",
    "poptables=pd.read_feather(\"./drive/MyDrive/Colab Notebooks/poptables_group.feather\")\n",
    "poptables.set_index(\"product_group_name\",inplace=True)\n",
    "transactions_train_customer_mostpop.drop_duplicates(subset=[\"customer_id\"],inplace=True)\n",
    "mostpop_list=transactions_train_customer_mostpop.most_pop.str.split(',', expand=True).values.tolist()\n",
    "mostpop_list = [list(filter(None, subset)) for subset in mostpop_list]\n",
    "from tqdm import tqdm\n",
    "ALL_USERS=transactions_train_customer_mostpop.customer_id\n",
    "def submit():\n",
    "    preds = []\n",
    "    for i in tqdm(range(len(ALL_USERS))):\n",
    "      user=ALL_USERS.iloc[i]\n",
    "      article_list=[]\n",
    "      pop_type=mostpop_list[i]\n",
    "      article_2_list=poptables.loc[pop_type].values.tolist()\n",
    "      article_list=\" \".join([article for articles in article_2_list for article in articles])\n",
    "      preds.append((user, article_list))\n",
    "    df_preds = pd.DataFrame(preds, columns=['customer_id', 'prediction'])\n",
    "    df_preds.to_feather(\"./drive/MyDrive/Colab Notebooks/popular_base_every_group.feather\")\n",
    "    return df_preds\n",
    "df_preds = submit()\n",
    "display(df_preds)"
   ]
  }
 ],
 "metadata": {
  "colab": {
   "collapsed_sections": [],
   "machine_shape": "hm",
   "name": "popular-base.ipynb",
   "provenance": []
  },
  "kernelspec": {
   "display_name": "Python 3",
   "language": "python",
   "name": "python3"
  },
  "language_info": {
   "codemirror_mode": {
    "name": "ipython",
    "version": 3
   },
   "file_extension": ".py",
   "mimetype": "text/x-python",
   "name": "python",
   "nbconvert_exporter": "python",
   "pygments_lexer": "ipython3",
   "version": "3.8.10"
  },
  "varInspector": {
   "cols": {
    "lenName": 16,
    "lenType": 16,
    "lenVar": 40
   },
   "kernels_config": {
    "python": {
     "delete_cmd_postfix": "",
     "delete_cmd_prefix": "del ",
     "library": "var_list.py",
     "varRefreshCmd": "print(var_dic_list())"
    },
    "r": {
     "delete_cmd_postfix": ") ",
     "delete_cmd_prefix": "rm(",
     "library": "var_list.r",
     "varRefreshCmd": "cat(var_dic_list()) "
    }
   },
   "types_to_exclude": [
    "module",
    "function",
    "builtin_function_or_method",
    "instance",
    "_Feature"
   ],
   "window_display": false
  }
 },
 "nbformat": 4,
 "nbformat_minor": 1
}