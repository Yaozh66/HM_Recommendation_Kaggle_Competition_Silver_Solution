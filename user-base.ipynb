{
 "cells": [
  {
   "cell_type": "markdown",
   "source": [
    "This is the file used for user-base recall debugging."
   ],
   "metadata": {
    "collapsed": false,
    "pycharm": {
     "name": "#%% md\n"
    }
   }
  },
  {
   "cell_type": "code",
   "execution_count": 1,
   "metadata": {
    "ExecuteTime": {
     "end_time": "2022-04-23T09:13:15.748440Z",
     "start_time": "2022-04-23T09:13:03.006521Z"
    },
    "pycharm": {
     "name": "#%%\n"
    }
   },
   "outputs": [],
   "source": [
    "import pandas as pd\n",
    "# read data into memory\n",
    "transactions_train = pd.read_feather(\"./data/h-and-m-personalized-fashion-recommendations/transactions_train.feature\")"
   ]
  },
  {
   "cell_type": "markdown",
   "source": [
    "First, we consider all the users. We use popularity factor to model the elapsed time transactions in."
   ],
   "metadata": {
    "collapsed": false,
    "pycharm": {
     "name": "#%% md\n"
    }
   }
  },
  {
   "cell_type": "code",
   "execution_count": 3,
   "metadata": {
    "ExecuteTime": {
     "end_time": "2022-04-01T04:07:57.685055Z",
     "start_time": "2022-04-01T04:07:57.513883Z"
    },
    "pycharm": {
     "name": "#%%\n"
    }
   },
   "outputs": [],
   "source": [
    "#cut off the transactions in 16 weeks\n",
    "near16 = transactions_train['t_dat'].max() - pd.Timedelta(weeks=16)\n",
    "transactions_train = transactions_train[transactions_train['t_dat'] >= near16]\n",
    "last_days = transactions_train['t_dat'].max()#find the latest purchase time\n",
    "transactions_train[\"days_distance\"] = (last_days - transactions_train[\"t_dat\"]).dt.days#calculate every purchase's time distance to the latest"
   ]
  },
  {
   "cell_type": "markdown",
   "source": [
    "Calculate the popularity factor，in this block, we consider two ways\n",
    "1.The popularity factor shows an inverse proportional attenuation\n",
    "2.The popularity factor shows an exponential attenuation"
   ],
   "metadata": {
    "collapsed": false,
    "pycharm": {
     "name": "#%% md\n"
    }
   }
  },
  {
   "cell_type": "code",
   "execution_count": 4,
   "metadata": {
    "ExecuteTime": {
     "end_time": "2022-04-01T04:08:00.324903Z",
     "start_time": "2022-04-01T04:07:59.123151Z"
    },
    "pycharm": {
     "name": "#%%\n"
    }
   },
   "outputs": [],
   "source": [
    "import numpy as np\n",
    "temperature = 3 # parameter of exponential decay\n",
    "transactions_train[\"month\"] = transactions_train[\"t_dat\"].dt.month\n",
    "transactions_train['pop_factor1'] = 1/(transactions_train[\"days_distance\"]+1)\n",
    "transactions_train['pop_factor2'] = np.exp(-(transactions_train[\"days_distance\"]/temperature))\n",
    "month_weights = [0.1,0.1,0.2,0.2,0.3,0.4,0.5,0.6,1,0.8,0.4,0.1] #weight of products bought in every month\n",
    "transactions_train['pop_factor2']*=transactions_train[\"month\"].apply(lambda x: month_weights[x-1])"
   ]
  },
  {
   "cell_type": "code",
   "execution_count": 5,
   "metadata": {
    "ExecuteTime": {
     "end_time": "2022-03-28T12:48:21.431417Z",
     "start_time": "2022-03-28T12:48:21.419306Z"
    },
    "pycharm": {
     "name": "#%%\n"
    }
   },
   "outputs": [
    {
     "data": {
      "text/html": [
       "<div>\n",
       "<style scoped>\n",
       "    .dataframe tbody tr th:only-of-type {\n",
       "        vertical-align: middle;\n",
       "    }\n",
       "\n",
       "    .dataframe tbody tr th {\n",
       "        vertical-align: top;\n",
       "    }\n",
       "\n",
       "    .dataframe thead th {\n",
       "        text-align: right;\n",
       "    }\n",
       "</style>\n",
       "<table border=\"1\" class=\"dataframe\">\n",
       "  <thead>\n",
       "    <tr style=\"text-align: right;\">\n",
       "      <th></th>\n",
       "      <th>t_dat</th>\n",
       "      <th>customer_id</th>\n",
       "      <th>article_id</th>\n",
       "      <th>price</th>\n",
       "      <th>sales_channel_id</th>\n",
       "      <th>days_distance</th>\n",
       "      <th>month</th>\n",
       "      <th>pop_factor1</th>\n",
       "      <th>pop_factor2</th>\n",
       "    </tr>\n",
       "  </thead>\n",
       "  <tbody>\n",
       "    <tr>\n",
       "      <th>26679938</th>\n",
       "      <td>2020-06-02</td>\n",
       "      <td>0001f8cef6b9702d54abf66fd89eb21014bf98567065a9...</td>\n",
       "      <td>0855834001</td>\n",
       "      <td>0.015831</td>\n",
       "      <td>1</td>\n",
       "      <td>112</td>\n",
       "      <td>6</td>\n",
       "      <td>0.00885</td>\n",
       "      <td>2.445678e-17</td>\n",
       "    </tr>\n",
       "    <tr>\n",
       "      <th>26679939</th>\n",
       "      <td>2020-06-02</td>\n",
       "      <td>0001f8cef6b9702d54abf66fd89eb21014bf98567065a9...</td>\n",
       "      <td>0836130002</td>\n",
       "      <td>0.015831</td>\n",
       "      <td>1</td>\n",
       "      <td>112</td>\n",
       "      <td>6</td>\n",
       "      <td>0.00885</td>\n",
       "      <td>2.445678e-17</td>\n",
       "    </tr>\n",
       "    <tr>\n",
       "      <th>26679940</th>\n",
       "      <td>2020-06-02</td>\n",
       "      <td>0015f16aa2702e2ec13d2e38052f496b9b915d3c64e82c...</td>\n",
       "      <td>0832453006</td>\n",
       "      <td>0.016932</td>\n",
       "      <td>1</td>\n",
       "      <td>112</td>\n",
       "      <td>6</td>\n",
       "      <td>0.00885</td>\n",
       "      <td>2.445678e-17</td>\n",
       "    </tr>\n",
       "    <tr>\n",
       "      <th>26679941</th>\n",
       "      <td>2020-06-02</td>\n",
       "      <td>0015f16aa2702e2ec13d2e38052f496b9b915d3c64e82c...</td>\n",
       "      <td>0841260011</td>\n",
       "      <td>0.016932</td>\n",
       "      <td>1</td>\n",
       "      <td>112</td>\n",
       "      <td>6</td>\n",
       "      <td>0.00885</td>\n",
       "      <td>2.445678e-17</td>\n",
       "    </tr>\n",
       "    <tr>\n",
       "      <th>26679942</th>\n",
       "      <td>2020-06-02</td>\n",
       "      <td>001ef7c503e5407b6b836351b0415d3a226c587d4fb17b...</td>\n",
       "      <td>0822946002</td>\n",
       "      <td>0.026797</td>\n",
       "      <td>2</td>\n",
       "      <td>112</td>\n",
       "      <td>6</td>\n",
       "      <td>0.00885</td>\n",
       "      <td>2.445678e-17</td>\n",
       "    </tr>\n",
       "    <tr>\n",
       "      <th>...</th>\n",
       "      <td>...</td>\n",
       "      <td>...</td>\n",
       "      <td>...</td>\n",
       "      <td>...</td>\n",
       "      <td>...</td>\n",
       "      <td>...</td>\n",
       "      <td>...</td>\n",
       "      <td>...</td>\n",
       "      <td>...</td>\n",
       "    </tr>\n",
       "    <tr>\n",
       "      <th>31788319</th>\n",
       "      <td>2020-09-22</td>\n",
       "      <td>fff2282977442e327b45d8c89afde25617d00124d0f999...</td>\n",
       "      <td>0929511001</td>\n",
       "      <td>0.059305</td>\n",
       "      <td>2</td>\n",
       "      <td>0</td>\n",
       "      <td>9</td>\n",
       "      <td>1.00000</td>\n",
       "      <td>1.000000e+00</td>\n",
       "    </tr>\n",
       "    <tr>\n",
       "      <th>31788320</th>\n",
       "      <td>2020-09-22</td>\n",
       "      <td>fff2282977442e327b45d8c89afde25617d00124d0f999...</td>\n",
       "      <td>0891322004</td>\n",
       "      <td>0.042356</td>\n",
       "      <td>2</td>\n",
       "      <td>0</td>\n",
       "      <td>9</td>\n",
       "      <td>1.00000</td>\n",
       "      <td>1.000000e+00</td>\n",
       "    </tr>\n",
       "    <tr>\n",
       "      <th>31788321</th>\n",
       "      <td>2020-09-22</td>\n",
       "      <td>fff380805474b287b05cb2a7507b9a013482f7dd0bce0e...</td>\n",
       "      <td>0918325001</td>\n",
       "      <td>0.043203</td>\n",
       "      <td>1</td>\n",
       "      <td>0</td>\n",
       "      <td>9</td>\n",
       "      <td>1.00000</td>\n",
       "      <td>1.000000e+00</td>\n",
       "    </tr>\n",
       "    <tr>\n",
       "      <th>31788322</th>\n",
       "      <td>2020-09-22</td>\n",
       "      <td>fff4d3a8b1f3b60af93e78c30a7cb4cf75edaf2590d3e5...</td>\n",
       "      <td>0833459002</td>\n",
       "      <td>0.006763</td>\n",
       "      <td>1</td>\n",
       "      <td>0</td>\n",
       "      <td>9</td>\n",
       "      <td>1.00000</td>\n",
       "      <td>1.000000e+00</td>\n",
       "    </tr>\n",
       "    <tr>\n",
       "      <th>31788323</th>\n",
       "      <td>2020-09-22</td>\n",
       "      <td>fffef3b6b73545df065b521e19f64bf6fe93bfd450ab20...</td>\n",
       "      <td>0898573003</td>\n",
       "      <td>0.033881</td>\n",
       "      <td>2</td>\n",
       "      <td>0</td>\n",
       "      <td>9</td>\n",
       "      <td>1.00000</td>\n",
       "      <td>1.000000e+00</td>\n",
       "    </tr>\n",
       "  </tbody>\n",
       "</table>\n",
       "<p>5108386 rows × 9 columns</p>\n",
       "</div>"
      ],
      "text/plain": [
       "              t_dat                                        customer_id  \\\n",
       "26679938 2020-06-02  0001f8cef6b9702d54abf66fd89eb21014bf98567065a9...   \n",
       "26679939 2020-06-02  0001f8cef6b9702d54abf66fd89eb21014bf98567065a9...   \n",
       "26679940 2020-06-02  0015f16aa2702e2ec13d2e38052f496b9b915d3c64e82c...   \n",
       "26679941 2020-06-02  0015f16aa2702e2ec13d2e38052f496b9b915d3c64e82c...   \n",
       "26679942 2020-06-02  001ef7c503e5407b6b836351b0415d3a226c587d4fb17b...   \n",
       "...             ...                                                ...   \n",
       "31788319 2020-09-22  fff2282977442e327b45d8c89afde25617d00124d0f999...   \n",
       "31788320 2020-09-22  fff2282977442e327b45d8c89afde25617d00124d0f999...   \n",
       "31788321 2020-09-22  fff380805474b287b05cb2a7507b9a013482f7dd0bce0e...   \n",
       "31788322 2020-09-22  fff4d3a8b1f3b60af93e78c30a7cb4cf75edaf2590d3e5...   \n",
       "31788323 2020-09-22  fffef3b6b73545df065b521e19f64bf6fe93bfd450ab20...   \n",
       "\n",
       "          article_id     price  sales_channel_id  days_distance  month  \\\n",
       "26679938  0855834001  0.015831                 1            112      6   \n",
       "26679939  0836130002  0.015831                 1            112      6   \n",
       "26679940  0832453006  0.016932                 1            112      6   \n",
       "26679941  0841260011  0.016932                 1            112      6   \n",
       "26679942  0822946002  0.026797                 2            112      6   \n",
       "...              ...       ...               ...            ...    ...   \n",
       "31788319  0929511001  0.059305                 2              0      9   \n",
       "31788320  0891322004  0.042356                 2              0      9   \n",
       "31788321  0918325001  0.043203                 1              0      9   \n",
       "31788322  0833459002  0.006763                 1              0      9   \n",
       "31788323  0898573003  0.033881                 2              0      9   \n",
       "\n",
       "          pop_factor1   pop_factor2  \n",
       "26679938      0.00885  2.445678e-17  \n",
       "26679939      0.00885  2.445678e-17  \n",
       "26679940      0.00885  2.445678e-17  \n",
       "26679941      0.00885  2.445678e-17  \n",
       "26679942      0.00885  2.445678e-17  \n",
       "...               ...           ...  \n",
       "31788319      1.00000  1.000000e+00  \n",
       "31788320      1.00000  1.000000e+00  \n",
       "31788321      1.00000  1.000000e+00  \n",
       "31788322      1.00000  1.000000e+00  \n",
       "31788323      1.00000  1.000000e+00  \n",
       "\n",
       "[5108386 rows x 9 columns]"
      ]
     },
     "execution_count": 5,
     "metadata": {},
     "output_type": "execute_result"
    }
   ],
   "source": [
    "transactions_train"
   ]
  },
  {
   "cell_type": "code",
   "execution_count": 5,
   "metadata": {
    "ExecuteTime": {
     "end_time": "2022-04-01T04:08:03.146451Z",
     "start_time": "2022-04-01T04:08:02.521737Z"
    },
    "pycharm": {
     "name": "#%%\n"
    },
    "scrolled": true
   },
   "outputs": [
    {
     "name": "stdout",
     "output_type": "stream",
     "text": [
      "['0751471001' '0448509014' '0918292001' '0924243001' '0918522001'\n",
      " '0706016001' '0866731001' '0915529003' '0714790020' '0924243002'\n",
      " '0850917001' '0751471043']\n",
      "['0924243001' '0924243002' '0918522001' '0751471001' '0448509014'\n",
      " '0866731001' '0714790020' '0923758001' '0915529003' '0915529005'\n",
      " '0762846027' '0918292001']\n"
     ]
    }
   ],
   "source": [
    "#now we can calculate the most popular 16 products for a;; the users\n",
    "df_train_g = transactions_train.groupby(\"article_id\").sum().reset_index() #sum weight for every product bought\n",
    "df_train_sorted=df_train_g.sort_values(by=\"pop_factor1\",ascending=False)\n",
    "products1 = df_train_sorted[\"article_id\"].to_numpy()[:12]\n",
    "print(products1)\n",
    "df_train_sorted=df_train_g.sort_values(by=\"pop_factor2\",ascending=False)\n",
    "products2 = df_train_sorted[\"article_id\"].to_numpy()[:12]\n",
    "print(products2)"
   ]
  },
  {
   "cell_type": "code",
   "execution_count": 12,
   "metadata": {
    "ExecuteTime": {
     "end_time": "2022-04-01T04:13:50.725016Z",
     "start_time": "2022-04-01T04:13:44.424642Z"
    },
    "pycharm": {
     "name": "#%%\n"
    }
   },
   "outputs": [
    {
     "name": "stderr",
     "output_type": "stream",
     "text": [
      "100%|██████████| 1371980/1371980 [00:01<00:00, 1074020.76it/s]\n"
     ]
    },
    {
     "data": {
      "text/html": [
       "<div>\n",
       "<style scoped>\n",
       "    .dataframe tbody tr th:only-of-type {\n",
       "        vertical-align: middle;\n",
       "    }\n",
       "\n",
       "    .dataframe tbody tr th {\n",
       "        vertical-align: top;\n",
       "    }\n",
       "\n",
       "    .dataframe thead th {\n",
       "        text-align: right;\n",
       "    }\n",
       "</style>\n",
       "<table border=\"1\" class=\"dataframe\">\n",
       "  <thead>\n",
       "    <tr style=\"text-align: right;\">\n",
       "      <th></th>\n",
       "      <th>customer_id</th>\n",
       "      <th>prediction</th>\n",
       "    </tr>\n",
       "  </thead>\n",
       "  <tbody>\n",
       "    <tr>\n",
       "      <th>0</th>\n",
       "      <td>00000dbacae5abe5e23885899a1fa44253a17956c6d1c3...</td>\n",
       "      <td>0751471001 0448509014 0918292001 0924243001 09...</td>\n",
       "    </tr>\n",
       "    <tr>\n",
       "      <th>1</th>\n",
       "      <td>0000423b00ade91418cceaf3b26c6af3dd342b51fd051e...</td>\n",
       "      <td>0751471001 0448509014 0918292001 0924243001 09...</td>\n",
       "    </tr>\n",
       "    <tr>\n",
       "      <th>2</th>\n",
       "      <td>000058a12d5b43e67d225668fa1f8d618c13dc232df0ca...</td>\n",
       "      <td>0751471001 0448509014 0918292001 0924243001 09...</td>\n",
       "    </tr>\n",
       "    <tr>\n",
       "      <th>3</th>\n",
       "      <td>00005ca1c9ed5f5146b52ac8639a40ca9d57aeff4d1bd2...</td>\n",
       "      <td>0751471001 0448509014 0918292001 0924243001 09...</td>\n",
       "    </tr>\n",
       "    <tr>\n",
       "      <th>4</th>\n",
       "      <td>00006413d8573cd20ed7128e53b7b13819fe5cfc2d801f...</td>\n",
       "      <td>0751471001 0448509014 0918292001 0924243001 09...</td>\n",
       "    </tr>\n",
       "    <tr>\n",
       "      <th>...</th>\n",
       "      <td>...</td>\n",
       "      <td>...</td>\n",
       "    </tr>\n",
       "    <tr>\n",
       "      <th>1371975</th>\n",
       "      <td>ffffbbf78b6eaac697a8a5dfbfd2bfa8113ee5b403e474...</td>\n",
       "      <td>0751471001 0448509014 0918292001 0924243001 09...</td>\n",
       "    </tr>\n",
       "    <tr>\n",
       "      <th>1371976</th>\n",
       "      <td>ffffcd5046a6143d29a04fb8c424ce494a76e5cdf4fab5...</td>\n",
       "      <td>0751471001 0448509014 0918292001 0924243001 09...</td>\n",
       "    </tr>\n",
       "    <tr>\n",
       "      <th>1371977</th>\n",
       "      <td>ffffcf35913a0bee60e8741cb2b4e78b8a98ee5ff2e6a1...</td>\n",
       "      <td>0751471001 0448509014 0918292001 0924243001 09...</td>\n",
       "    </tr>\n",
       "    <tr>\n",
       "      <th>1371978</th>\n",
       "      <td>ffffd7744cebcf3aca44ae7049d2a94b87074c3d4ffe38...</td>\n",
       "      <td>0751471001 0448509014 0918292001 0924243001 09...</td>\n",
       "    </tr>\n",
       "    <tr>\n",
       "      <th>1371979</th>\n",
       "      <td>ffffd9ac14e89946416d80e791d064701994755c3ab686...</td>\n",
       "      <td>0751471001 0448509014 0918292001 0924243001 09...</td>\n",
       "    </tr>\n",
       "  </tbody>\n",
       "</table>\n",
       "<p>1371980 rows × 2 columns</p>\n",
       "</div>"
      ],
      "text/plain": [
       "                                               customer_id  \\\n",
       "0        00000dbacae5abe5e23885899a1fa44253a17956c6d1c3...   \n",
       "1        0000423b00ade91418cceaf3b26c6af3dd342b51fd051e...   \n",
       "2        000058a12d5b43e67d225668fa1f8d618c13dc232df0ca...   \n",
       "3        00005ca1c9ed5f5146b52ac8639a40ca9d57aeff4d1bd2...   \n",
       "4        00006413d8573cd20ed7128e53b7b13819fe5cfc2d801f...   \n",
       "...                                                    ...   \n",
       "1371975  ffffbbf78b6eaac697a8a5dfbfd2bfa8113ee5b403e474...   \n",
       "1371976  ffffcd5046a6143d29a04fb8c424ce494a76e5cdf4fab5...   \n",
       "1371977  ffffcf35913a0bee60e8741cb2b4e78b8a98ee5ff2e6a1...   \n",
       "1371978  ffffd7744cebcf3aca44ae7049d2a94b87074c3d4ffe38...   \n",
       "1371979  ffffd9ac14e89946416d80e791d064701994755c3ab686...   \n",
       "\n",
       "                                                prediction  \n",
       "0        0751471001 0448509014 0918292001 0924243001 09...  \n",
       "1        0751471001 0448509014 0918292001 0924243001 09...  \n",
       "2        0751471001 0448509014 0918292001 0924243001 09...  \n",
       "3        0751471001 0448509014 0918292001 0924243001 09...  \n",
       "4        0751471001 0448509014 0918292001 0924243001 09...  \n",
       "...                                                    ...  \n",
       "1371975  0751471001 0448509014 0918292001 0924243001 09...  \n",
       "1371976  0751471001 0448509014 0918292001 0924243001 09...  \n",
       "1371977  0751471001 0448509014 0918292001 0924243001 09...  \n",
       "1371978  0751471001 0448509014 0918292001 0924243001 09...  \n",
       "1371979  0751471001 0448509014 0918292001 0924243001 09...  \n",
       "\n",
       "[1371980 rows x 2 columns]"
      ]
     },
     "metadata": {},
     "output_type": "display_data"
    }
   ],
   "source": [
    "#generate the submission file\n",
    "from tqdm import tqdm\n",
    "customers=pd.read_csv(\"./data/h-and-m-personalized-fashion-recommendations/customers.csv\")\n",
    "ALL_USERS=customers.customer_id\n",
    "def submit():\n",
    "    preds = []\n",
    "    for user in tqdm(ALL_USERS):\n",
    "            preds.append((user, ' '.join(products1.tolist()+products2.tolist())))\n",
    "    df_preds = pd.DataFrame(preds, columns=['customer_id', 'prediction'])\n",
    "    df_preds.to_feather(\"submissions_user_base.feather\")\n",
    "    return df_preds\n",
    "df_preds = submit()\n",
    "display(df_preds)"
   ]
  },
  {
   "cell_type": "markdown",
   "source": [
    "Now, we consider the popularity factor for every user."
   ],
   "metadata": {
    "collapsed": false,
    "pycharm": {
     "name": "#%% md\n"
    }
   }
  },
  {
   "cell_type": "code",
   "execution_count": null,
   "metadata": {
    "ExecuteTime": {
     "end_time": "2022-03-28T12:51:01.429683Z",
     "start_time": "2022-03-28T12:49:04.425063Z"
    },
    "pycharm": {
     "name": "#%%\n",
     "is_executing": true
    }
   },
   "outputs": [],
   "source": [
    "#Because we consider every user, so we should group every customer\n",
    "transactions_train_every=transactions_train.groupby([\"customer_id\",\"article_id\"])[\"pop_factor1\"].sum()\n",
    "transactions_train_every=pd.DataFrame(transactions_train_every)\n",
    "transactions_train_every.sort_values(by=\"pop_factor1\",ascending=False,inplace=True)#sort by popularity factor\n",
    "transactions_train_every.reset_index(inplace=True)\n",
    "transactions_train_every[\"list\"]=transactions_train_every.groupby(\"customer_id\")[\"article_id\"].transform(lambda x: \" \".join([str(i) for i in x[:12]]))#convert the article_id list to string\n",
    "transactions_train_every=transactions_train_every[[\"customer_id\",\"list\"]]"
   ]
  }
 ],
 "metadata": {
  "kernelspec": {
   "display_name": "Python 3",
   "language": "python",
   "name": "python3"
  },
  "language_info": {
   "codemirror_mode": {
    "name": "ipython",
    "version": 3
   },
   "file_extension": ".py",
   "mimetype": "text/x-python",
   "name": "python",
   "nbconvert_exporter": "python",
   "pygments_lexer": "ipython3",
   "version": "3.8.10"
  },
  "varInspector": {
   "cols": {
    "lenName": 16,
    "lenType": 16,
    "lenVar": 40
   },
   "kernels_config": {
    "python": {
     "delete_cmd_postfix": "",
     "delete_cmd_prefix": "del ",
     "library": "var_list.py",
     "varRefreshCmd": "print(var_dic_list())"
    },
    "r": {
     "delete_cmd_postfix": ") ",
     "delete_cmd_prefix": "rm(",
     "library": "var_list.r",
     "varRefreshCmd": "cat(var_dic_list()) "
    }
   },
   "types_to_exclude": [
    "module",
    "function",
    "builtin_function_or_method",
    "instance",
    "_Feature"
   ],
   "window_display": false
  }
 },
 "nbformat": 4,
 "nbformat_minor": 2
}